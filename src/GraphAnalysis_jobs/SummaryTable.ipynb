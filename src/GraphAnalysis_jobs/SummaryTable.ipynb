{
 "cells": [
  {
   "cell_type": "code",
   "execution_count": 2,
   "id": "bbfce657-a853-464d-9b7a-def1e0056eff",
   "metadata": {},
   "outputs": [
    {
     "name": "stderr",
     "output_type": "stream",
     "text": [
      "/home/azaelcarrillo/miniconda3/envs/XAI_credit/lib/python3.9/site-packages/tqdm/auto.py:22: TqdmWarning: IProgress not found. Please update jupyter and ipywidgets. See https://ipywidgets.readthedocs.io/en/stable/user_install.html\n",
      "  from .autonotebook import tqdm as notebook_tqdm\n"
     ]
    }
   ],
   "source": [
    "seed = 0\n",
    "\n",
    "import os\n",
    "import sys\n",
    "\n",
    "utils_path = os.path.abspath(\"../utilities/\")\n",
    "sys.path.append(utils_path)\n",
    "\n",
    "from load_data import load_fullECAI\n",
    "from evaluation import *\n",
    "from evaluation import _my_scorer\n",
    "\n",
    "import numpy as np\n",
    "import pandas as pd\n",
    "\n",
    "from sklearn.model_selection import train_test_split\n",
    "from sklearn.preprocessing import LabelEncoder, MinMaxScaler, OneHotEncoder, Normalizer\n",
    "from sklearn.metrics import euclidean_distances\n",
    "import joblib\n",
    "from joblib import Parallel, delayed\n",
    "import shap\n",
    "\n",
    "from igraph import Graph\n",
    "import igraph as ig"
   ]
  },
  {
   "cell_type": "code",
   "execution_count": 10,
   "id": "955512f5-9ad2-49a2-b2e9-a5e69eb5f783",
   "metadata": {},
   "outputs": [],
   "source": [
    "def mean_degree(g):\n",
    "    return\n",
    "\n",
    "def frac_nodes_large_component(g):\n",
    "    return\n",
    "\n",
    "\n",
    "def mean_dist_node_pairs(g):\n",
    "    return\n",
    "\n",
    "\n",
    "def exp_power_law(g):\n",
    "    return\n",
    "\n",
    "\n",
    "def cluster_coeff(g):\n",
    "    return\n",
    "\n",
    "\n",
    "def cluster_coeff_alt(g):\n",
    "    return\n",
    "\n",
    "\n",
    "def modularity(g):\n",
    "    return\n",
    "\n",
    "def summary(result, model_name):\n",
    "    summary_stats = {}\n",
    "    summary_stats['modelo'] = model_name\n",
    "    summary_stats['corte'] = result[0]\n",
    "    summary_stats['global_efficiency'] = result[1]\n",
    "    summary_stats['aristas'] = result[2]\n",
    "    summary_stats['mean_degree'] = mean_degree(result[3])\n",
    "    summary_stats['S'] = frac_nodes_large_component(result[3])\n",
    "    summary_stats['mean_dist_node_pairs'] = mean_dist_node_pairs(result[3])\n",
    "    summary_stats['exp_power_law'] = exp_power_law(result[3])\n",
    "    summary_stats['cluster_coeff'] = cluster_coeff(result[3])\n",
    "    summary_stats['cluster_coeff_alt'] = cluster_coeff_alt(result[3])\n",
    "    summary_stats['modularity'] = modularity(result[3])\n",
    "    \n",
    "    return summary_stats"
   ]
  },
  {
   "cell_type": "code",
   "execution_count": 6,
   "id": "ffd708e5-ed2b-4c88-93ca-301a7407078a",
   "metadata": {},
   "outputs": [],
   "source": [
    "models_paths = ['../results/XGBoost/GridSearchCV_22-03-22_03-27-03/models/best/best_xgb.pkl', \n",
    "                '../results/Basic/models/RandomForestClassifier.pkl', \n",
    "                '../results/Basic/models/LogisticRegression.pkl',\n",
    "                '../results/Basic/models/LinearDiscriminantAnalysis.pkl',\n",
    "                '../results/Basic/models/XGBClassifier.pkl']"
   ]
  },
  {
   "cell_type": "code",
   "execution_count": 33,
   "id": "623a5da1-7053-4bc6-a87b-1684622709be",
   "metadata": {},
   "outputs": [],
   "source": [
    "models_stats = []\n",
    "\n",
    "for model in models_paths:\n",
    "    model_folder = '/'.join(model.split('/')[:-1])\n",
    "    model_name = model.split('/')[-1].split('.')[0]\n",
    "    results = joblib.load('{}/{}_reduced_graphs_efficiency.pkl'.format(model_folder, model_name))\n",
    "    \n",
    "    ## Stats per cutoff\n",
    "    stats_tmp = Parallel(n_jobs=4)(delayed(summary)(r, model_name) for r in results)\n",
    "    \n",
    "    ## Save in list\n",
    "    models_stats = models_stats + stats_tmp\n",
    "    "
   ]
  },
  {
   "cell_type": "code",
   "execution_count": 19,
   "id": "73fe077e-a15c-4610-be56-ca248a3aad2d",
   "metadata": {},
   "outputs": [
    {
     "data": {
      "text/html": [
       "<div>\n",
       "<style scoped>\n",
       "    .dataframe tbody tr th:only-of-type {\n",
       "        vertical-align: middle;\n",
       "    }\n",
       "\n",
       "    .dataframe tbody tr th {\n",
       "        vertical-align: top;\n",
       "    }\n",
       "\n",
       "    .dataframe thead th {\n",
       "        text-align: right;\n",
       "    }\n",
       "</style>\n",
       "<table border=\"1\" class=\"dataframe\">\n",
       "  <thead>\n",
       "    <tr style=\"text-align: right;\">\n",
       "      <th></th>\n",
       "      <th>Modelo</th>\n",
       "      <th>Corte</th>\n",
       "      <th>Efficiencia</th>\n",
       "      <th>Optimo</th>\n",
       "      <th>Aristas</th>\n",
       "      <th>Mean Degree</th>\n",
       "      <th>S</th>\n",
       "      <th>Distancia promedio, nodos pares</th>\n",
       "      <th>Exponente Power law</th>\n",
       "      <th>Clustering Coefficient</th>\n",
       "      <th>Clustering Coefficient alt</th>\n",
       "      <th>Modularidad</th>\n",
       "    </tr>\n",
       "  </thead>\n",
       "  <tbody>\n",
       "  </tbody>\n",
       "</table>\n",
       "</div>"
      ],
      "text/plain": [
       "Empty DataFrame\n",
       "Columns: [Modelo, Corte, Efficiencia, Optimo, Aristas, Mean Degree, S, Distancia promedio, nodos pares, Exponente Power law, Clustering Coefficient, Clustering Coefficient alt, Modularidad]\n",
       "Index: []"
      ]
     },
     "execution_count": 19,
     "metadata": {},
     "output_type": "execute_result"
    }
   ],
   "source": [
    "#pd.DataFrame(columns=['Modelo', 'Corte', 'Efficiencia', 'Optimo', 'Aristas', 'Mean Degree', 'S', 'Distancia promedio, nodos pares', 'Exponente Power law', 'Clustering Coefficient', 'Clustering Coefficient alt', 'Modularidad'])"
   ]
  }
 ],
 "metadata": {
  "kernelspec": {
   "display_name": "Python 3 (ipykernel)",
   "language": "python",
   "name": "python3"
  },
  "language_info": {
   "codemirror_mode": {
    "name": "ipython",
    "version": 3
   },
   "file_extension": ".py",
   "mimetype": "text/x-python",
   "name": "python",
   "nbconvert_exporter": "python",
   "pygments_lexer": "ipython3",
   "version": "3.9.7"
  }
 },
 "nbformat": 4,
 "nbformat_minor": 5
}
