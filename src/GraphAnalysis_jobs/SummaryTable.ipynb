{
 "cells": [
  {
   "cell_type": "code",
   "execution_count": 54,
   "id": "bbfce657-a853-464d-9b7a-def1e0056eff",
   "metadata": {},
   "outputs": [],
   "source": [
    "seed = 0\n",
    "\n",
    "import os\n",
    "import sys\n",
    "\n",
    "os.chdir('..')\n",
    "utils_path = os.path.abspath(\"./utilities/\")\n",
    "sys.path.append(utils_path)\n",
    "\n",
    "from load_data import load_fullECAI\n",
    "from evaluation import *\n",
    "from evaluation import _my_scorer\n",
    "\n",
    "import numpy as np\n",
    "import pandas as pd\n",
    "\n",
    "from sklearn.model_selection import train_test_split\n",
    "from sklearn.preprocessing import LabelEncoder, MinMaxScaler, OneHotEncoder, Normalizer\n",
    "from sklearn.metrics import euclidean_distances\n",
    "import joblib\n",
    "from joblib import Parallel, delayed\n",
    "import shap\n",
    "\n",
    "from igraph import Graph\n",
    "import igraph as ig"
   ]
  },
  {
   "cell_type": "code",
   "execution_count": 10,
   "id": "955512f5-9ad2-49a2-b2e9-a5e69eb5f783",
   "metadata": {},
   "outputs": [],
   "source": [
    "def mean_degree(g):\n",
    "    degree = g.degree_distribution()\n",
    "    \n",
    "    return degree.mean\n",
    "\n",
    "def frac_nodes_large_component(g):\n",
    "    return\n",
    "\n",
    "\n",
    "def mean_dist_node_pairs(g):\n",
    "    return\n",
    "\n",
    "\n",
    "def exp_power_law(g):\n",
    "    return\n",
    "\n",
    "\n",
    "def cluster_coeff(g):\n",
    "    return g.transitivity_undirected()\n",
    "\n",
    "\n",
    "def random_cluster_coeff(g):\n",
    "    n = g.vcount()\n",
    "    degrees = g.degree(g.vs, loops=False)\n",
    "    unique_degrees, degree_freqs = np.unique(degrees, return_counts=True)\n",
    "    prop_degrees = degree_freqs/n\n",
    "    moment_1 = np.dot(unique_degrees, prop_degrees)\n",
    "    moment_2 = np.dot(unique_degrees**2, prop_degrees)\n",
    "    \n",
    "    return (1/n) * ((moment_2 - moment_1)**2) / (moment_1**3)\n",
    "\n",
    "\n",
    "\n",
    "def cluster_coeff_alt(g):\n",
    "    return\n",
    "\n",
    "\n",
    "def modularity(g):\n",
    "    # Checar si este es con distancias o fuerzas\n",
    "    mod = g.modularity(y_test.to_list(), weights=g.es['weight'])\n",
    "    return mod\n",
    "\n",
    "def summary(result, model_name):\n",
    "    summary_stats = {}\n",
    "    summary_stats['modelo'] = model_name\n",
    "    summary_stats['corte'] = result[0]\n",
    "    summary_stats['global_efficiency'] = result[1]\n",
    "    summary_stats['aristas'] = result[2]\n",
    "    summary_stats['mean_degree'] = mean_degree(result[3])\n",
    "    summary_stats['S'] = frac_nodes_large_component(result[3])\n",
    "    summary_stats['mean_dist_node_pairs'] = mean_dist_node_pairs(result[3])\n",
    "    summary_stats['exp_power_law'] = exp_power_law(result[3])\n",
    "    summary_stats['cluster_coeff'] = cluster_coeff(result[3])\n",
    "    summary_stats['cluster_coeff_alt'] = cluster_coeff_alt(result[3])\n",
    "    summary_stats['modularity'] = modularity(result[3])\n",
    "    \n",
    "    return summary_stats"
   ]
  },
  {
   "cell_type": "code",
   "execution_count": 69,
   "id": "859f6f83-f734-4c7a-ae4c-61529f0455b8",
   "metadata": {},
   "outputs": [],
   "source": [
    "dataset = load_fullECAI()\n",
    "# Prep data\n",
    "X = dataset.drop('status', axis=1)\n",
    "y = dataset.loc[:, 'status']\n",
    "\n",
    "# Split\n",
    "X_train, X_test, y_train, y_test = train_test_split(X, y, test_size=.2, random_state=seed, stratify=y)"
   ]
  },
  {
   "cell_type": "code",
   "execution_count": 55,
   "id": "ffd708e5-ed2b-4c88-93ca-301a7407078a",
   "metadata": {},
   "outputs": [],
   "source": [
    "models_paths = ['./results/XGBoost/GridSearchCV_22-03-22_03-27-03/models/best/best_xgb.pkl', \n",
    "                './results/Basic/models/RandomForestClassifier.pkl', \n",
    "                './results/Basic/models/LogisticRegression.pkl',\n",
    "                './results/Basic/models/LinearDiscriminantAnalysis.pkl',\n",
    "                './results/Basic/models/XGBClassifier.pkl']"
   ]
  },
  {
   "cell_type": "code",
   "execution_count": 56,
   "id": "43d7419d-00a5-4f85-9a68-ddf91e84a0ac",
   "metadata": {},
   "outputs": [],
   "source": [
    "model_folder = '/'.join(model.split('/')[:-1])\n",
    "model_name = model.split('/')[-1].split('.')[0]\n",
    "results = joblib.load('{}/{}_reduced_graphs_efficiency.pkl'.format(model_folder, model_name))"
   ]
  },
  {
   "cell_type": "code",
   "execution_count": 65,
   "id": "26aca598-f9f5-4446-a187-30c7236f3420",
   "metadata": {},
   "outputs": [],
   "source": [
    "g = results[0][3]"
   ]
  },
  {
   "cell_type": "code",
   "execution_count": 77,
   "id": "aa5d51ff-7cc7-4782-83ad-fec8cb6775b9",
   "metadata": {},
   "outputs": [],
   "source": [
    "n = y_test.shape[0]"
   ]
  },
  {
   "cell_type": "code",
   "execution_count": 33,
   "id": "623a5da1-7053-4bc6-a87b-1684622709be",
   "metadata": {},
   "outputs": [],
   "source": [
    "models_stats = []\n",
    "\n",
    "for model in models_paths:\n",
    "    model_folder = '/'.join(model.split('/')[:-1])\n",
    "    model_name = model.split('/')[-1].split('.')[0]\n",
    "    results = joblib.load('{}/{}_reduced_graphs_efficiency.pkl'.format(model_folder, model_name))\n",
    "    \n",
    "    ## Stats per cutoff\n",
    "    stats_tmp = Parallel(n_jobs=4)(delayed(summary)(r, model_name) for r in results)\n",
    "    \n",
    "    ## Save in list\n",
    "    models_stats = models_stats + stats_tmp"
   ]
  },
  {
   "cell_type": "code",
   "execution_count": 19,
   "id": "73fe077e-a15c-4610-be56-ca248a3aad2d",
   "metadata": {},
   "outputs": [
    {
     "data": {
      "text/html": [
       "<div>\n",
       "<style scoped>\n",
       "    .dataframe tbody tr th:only-of-type {\n",
       "        vertical-align: middle;\n",
       "    }\n",
       "\n",
       "    .dataframe tbody tr th {\n",
       "        vertical-align: top;\n",
       "    }\n",
       "\n",
       "    .dataframe thead th {\n",
       "        text-align: right;\n",
       "    }\n",
       "</style>\n",
       "<table border=\"1\" class=\"dataframe\">\n",
       "  <thead>\n",
       "    <tr style=\"text-align: right;\">\n",
       "      <th></th>\n",
       "      <th>Modelo</th>\n",
       "      <th>Corte</th>\n",
       "      <th>Efficiencia</th>\n",
       "      <th>Optimo</th>\n",
       "      <th>Aristas</th>\n",
       "      <th>Mean Degree</th>\n",
       "      <th>S</th>\n",
       "      <th>Distancia promedio, nodos pares</th>\n",
       "      <th>Exponente Power law</th>\n",
       "      <th>Clustering Coefficient</th>\n",
       "      <th>Clustering Coefficient alt</th>\n",
       "      <th>Modularidad</th>\n",
       "    </tr>\n",
       "  </thead>\n",
       "  <tbody>\n",
       "  </tbody>\n",
       "</table>\n",
       "</div>"
      ],
      "text/plain": [
       "Empty DataFrame\n",
       "Columns: [Modelo, Corte, Efficiencia, Optimo, Aristas, Mean Degree, S, Distancia promedio, nodos pares, Exponente Power law, Clustering Coefficient, Clustering Coefficient alt, Modularidad]\n",
       "Index: []"
      ]
     },
     "execution_count": 19,
     "metadata": {},
     "output_type": "execute_result"
    }
   ],
   "source": [
    "#pd.DataFrame(columns=['Modelo', 'Corte', 'Efficiencia', 'Optimo', 'Aristas', 'Mean Degree', 'S', 'Distancia promedio, nodos pares', 'Exponente Power law', 'Clustering Coefficient', 'Clustering Coefficient alt', 'Modularidad'])"
   ]
  }
 ],
 "metadata": {
  "kernelspec": {
   "display_name": "Python 3 (ipykernel)",
   "language": "python",
   "name": "python3"
  },
  "language_info": {
   "codemirror_mode": {
    "name": "ipython",
    "version": 3
   },
   "file_extension": ".py",
   "mimetype": "text/x-python",
   "name": "python",
   "nbconvert_exporter": "python",
   "pygments_lexer": "ipython3",
   "version": "3.9.7"
  }
 },
 "nbformat": 4,
 "nbformat_minor": 5
}
