{
 "cells": [
  {
   "cell_type": "code",
   "execution_count": 21,
   "id": "a82591e8-efd0-4ec9-aba5-d70f3ae3bb3d",
   "metadata": {},
   "outputs": [],
   "source": [
    "seed = 0\n",
    "\n",
    "import os\n",
    "import sys\n",
    "\n",
    "utils_path = os.path.abspath(\"./utilities/\")\n",
    "sys.path.append(utils_path)\n",
    "\n",
    "from load_data import load_fullECAI\n",
    "from evaluation import *\n",
    "from evaluation import _my_scorer\n",
    "\n",
    "import numpy as np\n",
    "import pandas as pd\n",
    "\n",
    "from sklearn.model_selection import train_test_split\n",
    "from sklearn.metrics import RocCurveDisplay\n",
    "import matplotlib.pyplot as plt\n",
    "\n",
    "import joblib\n",
    "from joblib import Parallel, delayed\n",
    "import shap\n",
    "\n",
    "from igraph import Graph\n",
    "import igraph as ig"
   ]
  },
  {
   "cell_type": "code",
   "execution_count": 4,
   "id": "2a1bc8ff-8620-4a8d-b579-88a7b1ed43f7",
   "metadata": {},
   "outputs": [],
   "source": [
    "### LOAD DATA ###\n",
    "dataset = load_fullECAI()\n",
    "# Prep data\n",
    "X = dataset.drop('status', axis=1)\n",
    "y = dataset.loc[:, 'status']\n",
    "\n",
    "X_train, X_test, y_train, y_test = train_test_split(X, y, test_size=.2, random_state=seed, stratify=y)"
   ]
  },
  {
   "cell_type": "code",
   "execution_count": 30,
   "id": "e9260004-6941-47cf-bb23-5e7ed5a627ed",
   "metadata": {},
   "outputs": [],
   "source": [
    "def ROC(model_path):\n",
    "    model_info = joblib.load(model_path)\n",
    "    y_proba_1 = model_info['y_proba'][:,1]\n",
    "    \n",
    "    fig, ax = plt.subplots()\n",
    "    RocCurveDisplay.from_predictions(y_test, y_proba_1, ax=ax)\n",
    "    \n",
    "    model_folder = '/'.join(model_path.split('/')[:-1])\n",
    "    model_name = model_path.split('/')[-1].split('.')[0]\n",
    "    fig_name = '{}/{}_ROC.png'.format(model_folder, model_name)\n",
    "    # imagen eps\n",
    "    results = plt.savefig(fig_name, bbox_inches='tight', dpi=300, transparent=True)\n",
    "\n",
    "\n",
    "def shap_graph(model_path):\n",
    "    return\n",
    "\n",
    "\n",
    "def heatmap(model_path):\n",
    "    return"
   ]
  },
  {
   "cell_type": "code",
   "execution_count": 5,
   "id": "02b1febe-e000-40d4-89df-84d8294a72b5",
   "metadata": {},
   "outputs": [],
   "source": [
    "models_paths = ['./results/XGBoost/GridSearchCV_22-03-22_03-27-03/models/best/best_xgb.pkl', \n",
    "                './results/Basic/models/RandomForestClassifier.pkl', \n",
    "                './results/Basic/models/LogisticRegression.pkl',\n",
    "                './results/Basic/models/LinearDiscriminantAnalysis.pkl',\n",
    "                './results/Basic/models/XGBClassifier.pkl']"
   ]
  },
  {
   "cell_type": "code",
   "execution_count": 29,
   "id": "ef950547-3a61-4433-8992-db281b2d76fb",
   "metadata": {},
   "outputs": [
    {
     "data": {
      "image/png": "[encoded data removed]",
      "text/plain": [
       "<Figure size 432x288 with 1 Axes>"
      ]
     },
     "metadata": {
      "needs_background": "light"
     },
     "output_type": "display_data"
    }
   ],
   "source": [
    "for model_path in models_paths\n",
    "    ROC(model_path)"
   ]
  }
 ],
 "metadata": {
  "kernelspec": {
   "display_name": "Python 3 (ipykernel)",
   "language": "python",
   "name": "python3"
  },
  "language_info": {
   "codemirror_mode": {
    "name": "ipython",
    "version": 3
   },
   "file_extension": ".py",
   "mimetype": "text/x-python",
   "name": "python",
   "nbconvert_exporter": "python",
   "pygments_lexer": "ipython3",
   "version": "3.9.7"
  }
 },
 "nbformat": 4,
 "nbformat_minor": 5
}
