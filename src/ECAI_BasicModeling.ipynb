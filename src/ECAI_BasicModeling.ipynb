{
 "cells": [
  {
   "cell_type": "code",
   "execution_count": 4,
   "id": "ee938760-25e2-4754-bf2d-9882d4af8e9d",
   "metadata": {},
   "outputs": [],
   "source": [
    "seed = 0"
   ]
  },
  {
   "cell_type": "code",
   "execution_count": 5,
   "id": "722d4ad5-fb5d-4d6f-a0e3-a62c4c518254",
   "metadata": {},
   "outputs": [],
   "source": [
    "from utilities.load_data import load_fullECAI\n",
    "from utilities.evaluation import *\n",
    "from utilities import model_utils"
   ]
  },
  {
   "cell_type": "code",
   "execution_count": 6,
   "id": "a2c1b3e0-b08f-433c-988c-b7c1cf6b2270",
   "metadata": {
    "tags": []
   },
   "outputs": [],
   "source": [
    "from time import time\n",
    "import joblib\n",
    "import os\n",
    "import numpy as np\n",
    "import pandas as pd\n",
    "import shap\n",
    "from matplotlib import pyplot\n",
    "from sklearn.model_selection import train_test_split\n",
    "from sklearn.preprocessing import LabelEncoder, MinMaxScaler, OneHotEncoder, Normalizer\n",
    "from sklearn.pipeline import Pipeline\n",
    "from sklearn.compose import ColumnTransformer\n",
    "from sklearn.linear_model import LogisticRegression\n",
    "from sklearn.discriminant_analysis import LinearDiscriminantAnalysis\n",
    "from sklearn.naive_bayes import GaussianNB\n",
    "from sklearn.gaussian_process import GaussianProcessClassifier\n",
    "from sklearn.svm import SVC\n",
    "from sklearn.ensemble import AdaBoostClassifier, RandomForestClassifier, StackingClassifier\n",
    "from sklearn.dummy import DummyClassifier\n",
    "from sklearn.model_selection import train_test_split, GridSearchCV\n",
    "from sklearn.metrics import confusion_matrix\n",
    "from xgboost import XGBClassifier, Booster, DMatrix"
   ]
  },
  {
   "cell_type": "code",
   "execution_count": 57,
   "id": "f2b5c9c3-2f39-4b9a-908c-16d1be87ee0f",
   "metadata": {},
   "outputs": [],
   "source": [
    "# define models to test\n",
    "\n",
    "def get_models():\n",
    "    models, names = list(), list()\n",
    "    cv = RepeatedStratifiedKFold(n_splits=5, n_repeats=3, random_state=seed)\n",
    "    f1_scorer = make_scorer(f1_score)\n",
    "    \n",
    "    # LR\n",
    "    param_grid = {\"C\": [1000, 200, 100, 50, 10, 1, .1],\n",
    "                  \"penalty\": [\"l1\", \"l2\"]}\n",
    "    model = LogisticRegression(max_iter=3000, solver='liblinear')\n",
    "    model = GridSearchCV(estimator=model, param_grid=param_grid, n_jobs=-1, cv=cv, scoring=f1_scorer)\n",
    "    models.append(model)\n",
    "    names.append('LR')\n",
    "    \n",
    "    # LR\n",
    "    model = LogisticRegression(max_iter=10000)\n",
    "    models.append(model)\n",
    "    names.append('LR')\n",
    "    \n",
    "    # LDA\n",
    "    models.append(LinearDiscriminantAnalysis())\n",
    "    names.append('LDA')\n",
    "    \n",
    "    # RF\n",
    "    param_grid = {'max_depth': [10, 50, 70, 100, None],\n",
    "                  'min_samples_leaf': [1, 2, 4],\n",
    "                  'min_samples_split': [2, 5, 10],\n",
    "                  'n_estimators': [100, 200, 500, 800]}\n",
    "    \n",
    "    model = RandomForestClassifier()\n",
    "    model = GridSearchCV(estimator=model, param_grid=param_grid, n_jobs=-1, cv=cv, scoring=f1_scorer)\n",
    "    models.append(model)\n",
    "    names.append('RF')\n",
    "    \n",
    "    # XGB\n",
    "    models.append(XGBClassifier(use_label_encoder=False))\n",
    "    names.append('XGB')\n",
    "    return models, names"
   ]
  },
  {
   "cell_type": "code",
   "execution_count": 8,
   "id": "7233eea8-1238-45bd-90dd-9b9b1d0703d5",
   "metadata": {},
   "outputs": [],
   "source": [
    "from sklearn.pipeline import Pipeline\n",
    "\n",
    "class SaveModelInfo():\n",
    "    def __init__(self, clf, X_val, y_val, folder_path='results/Basic1/models'):\n",
    "        # clf\n",
    "        if type(clf) == Pipeline:\n",
    "            if type(clf.named_steps['m']) == GridSearchCV:\n",
    "                self.model = clf.named_steps['m'].best_estimator_\n",
    "            else:\n",
    "                self.model = clf.named_steps['m']\n",
    "        else:\n",
    "            if type(clf) == GridSearchCV:\n",
    "                self.model = clf.best_estimator_\n",
    "            else:\n",
    "                self.model = clf\n",
    "        \n",
    "        # X_val\n",
    "        if type(clf) == Pipeline:\n",
    "            self.X_val = pd.DataFrame(clf.named_steps['nr'].transform(X_val), \n",
    "                                      columns=X_val.columns, \n",
    "                                      index=X_val.index)\n",
    "        else:\n",
    "            self.X_val = X_val\n",
    "            \n",
    "        self.y_val = y_val\n",
    "        self.folder_path = folder_path\n",
    "    \n",
    "    def save_model(self):\n",
    "        self.get_info()\n",
    "        to_save = {'params': self.params,\n",
    "                   'shap_test': self.shap_test,\n",
    "                   'shap_df': self.shap_df,\n",
    "                   'val_idx': self.X_val.index.values, \n",
    "                   'y_pred': self.y_pred,\n",
    "                   'y_proba': self.y_proba,\n",
    "                   'confusion_matrix': self.cf, \n",
    "                   'f1': self.f1}\n",
    "        \n",
    "        model_name = type(self.model).__name__ + '.pkl'\n",
    "        if not os.path.exists(self.folder_path):\n",
    "            os.makedirs(self.folder_path)\n",
    "        model_savepath = '{}/{}'.format(self.folder_path, model_name)\n",
    "        \n",
    "        joblib.dump(to_save, model_savepath)\n",
    "        \n",
    "    def get_info(self):\n",
    "        self.params = self.model.get_params()\n",
    "        self.shap_test, self.shap_df = self.get_shap()\n",
    "        self.y_pred = self.model.predict(self.X_val)\n",
    "        self.y_proba = self.model.predict_proba(self.X_val)\n",
    "        self.cf = confusion_matrix(self.y_val, self.y_pred)\n",
    "        self.f1 = f1_score(self.y_val, self.y_pred)\n",
    "        \n",
    "    def get_shap(self):\n",
    "        if type(self.model).__name__ == 'RandomForestClassifier':\n",
    "            explainer = shap.TreeExplainer(self.model, self.X_val)\n",
    "            shap_test = explainer(self.X_val, check_additivity=False)[:,:,1]\n",
    "            shap_df = pd.DataFrame(shap_test.values, \n",
    "                                   columns=shap_test.feature_names, \n",
    "                                   index=self.X_val.index)\n",
    "        else:\n",
    "            explainer = shap.Explainer(self.model, self.X_val)\n",
    "            shap_test = explainer(self.X_val)    \n",
    "            shap_df = pd.DataFrame(shap_test.values,\n",
    "                                   columns=shap_test.feature_names, \n",
    "                                   index=self.X_val.index)\n",
    "        \n",
    "        return shap_test, shap_df      "
   ]
  },
  {
   "cell_type": "code",
   "execution_count": 9,
   "id": "2bf49d83-bc92-4c9e-9975-58342d3444ed",
   "metadata": {},
   "outputs": [],
   "source": [
    "dataset = load_fullECAI()\n",
    "# Prep data\n",
    "X = dataset.drop('status', axis=1)\n",
    "y = dataset.loc[:, 'status']\n",
    "\n",
    "# Split\n",
    "X_train, X_test, y_train, y_test = train_test_split(X, y, test_size=.2, random_state=seed, stratify=y)"
   ]
  },
  {
   "cell_type": "code",
   "execution_count": 7,
   "id": "ccf5fca7-1dd2-4608-8d32-9462fdecdadc",
   "metadata": {},
   "outputs": [],
   "source": [
    "def log_metrics_and_explanations(clf, X_val, y_true_val, y_pred_val, y_prob_val):\n",
    "    cf = confusion_matrix(y_true_val, y_pred_val)\n",
    "    f1 = f1_score(y_true_val, y_pred_val)\n",
    "    \n",
    "    if type(clf.named_steps['m']) == GridSearchCV:\n",
    "        model = clf.named_steps['m'].best_estimator_\n",
    "    else:\n",
    "        model = clf.named_steps['m']\n",
    "        \n",
    "    X_trans = pd.DataFrame(clf.named_steps['nr'].transform(X_val), columns=X_val.columns)\n",
    "    if type(model).__name__ == 'RandomForestClassifier':\n",
    "        explainer = shap.TreeExplainer(model, X_trans)\n",
    "        shap_test = explainer(X_trans, check_additivity=False)[:,:,1]\n",
    "        shap_df = pd.DataFrame(shap_test.values, \n",
    "                               columns=shap_test.feature_names, \n",
    "                               index=X_val.index)\n",
    "    else:\n",
    "        explainer = shap.Explainer(model, X_trans)\n",
    "        shap_test = explainer(X_trans)    \n",
    "        shap_df = pd.DataFrame(shap_test.values,\n",
    "                               columns=shap_test.feature_names, \n",
    "                               index=X_val.index)\n",
    "    ### Save to file\n",
    "    timestring = \"\".join(str(time()).split(\".\"))\n",
    "    model_name = type(model).__name__ + '.pkl'\n",
    "    \n",
    "    if not os.path.exists('results/Basic1/models'):\n",
    "        os.makedirs('results/Basic1/models')\n",
    "    model_savepath = 'results/Basic1/models/{}'.format(model_name)\n",
    "\n",
    "    model_utils.save_model(model_savepath, \n",
    "                           clf.get_params(), \n",
    "                           shap_test, \n",
    "                           shap_df, \n",
    "                           X_val, \n",
    "                           y_pred_val, \n",
    "                           y_prob_val, \n",
    "                           cf, \n",
    "                           f1)\n",
    "    \n",
    "    return f1\n",
    "\n",
    "def _my_scorer(clf, X_val, y_true_val):\n",
    "    # do all the work and return some of the metrics\n",
    "    y_pred_val = clf.predict(X_val)\n",
    "    y_prob_val = clf.predict_proba(X_val)\n",
    "    f1 = log_metrics_and_explanations(clf, X_val, y_true_val, y_pred_val, y_prob_val)\n",
    "    \n",
    "    return f1"
   ]
  },
  {
   "cell_type": "markdown",
   "id": "4dce4dea-d2f0-4ab6-9e82-cce2c9f05f49",
   "metadata": {},
   "source": [
    "## Validación cruzada"
   ]
  },
  {
   "cell_type": "code",
   "execution_count": 31,
   "id": "a91cffbe-eeb5-4826-b696-1adf114ec866",
   "metadata": {
    "collapsed": true,
    "jupyter": {
     "outputs_hidden": true
    },
    "tags": []
   },
   "outputs": [
    {
     "name": "stdout",
     "output_type": "stream",
     "text": [
      "GridSearchCV(cv=RepeatedStratifiedKFold(n_repeats=3, n_splits=5, random_state=0),\n",
      "             estimator=LogisticRegression(max_iter=3000, solver='liblinear'),\n",
      "             n_jobs=-1,\n",
      "             param_grid={'C': [10, 1, 0.1, 0.05, 0.01, 0.001],\n",
      "                         'penalty': ['l1', 'l2']},\n",
      "             scoring=make_scorer(f1_score))\n",
      "LinearDiscriminantAnalysis()\n",
      "min: 0.21556886227544908\n",
      "max: 0.28650137741046827\n",
      "mean: 0.24321001347944102\n",
      "GridSearchCV(cv=RepeatedStratifiedKFold(n_repeats=3, n_splits=5, random_state=0),\n",
      "             estimator=RandomForestClassifier(), n_jobs=-1,\n",
      "             param_grid={'n_estimators': [100, 200, 500, 800]},\n",
      "             scoring=make_scorer(f1_score))\n",
      "XGBClassifier(base_score=None, booster=None, colsample_bylevel=None,\n",
      "              colsample_bynode=None, colsample_bytree=None,\n",
      "              enable_categorical=False, gamma=None, gpu_id=None,\n",
      "              importance_type=None, interaction_constraints=None,\n",
      "              learning_rate=None, max_delta_step=None, max_depth=None,\n",
      "              min_child_weight=None, missing=nan, monotone_constraints=None,\n",
      "              n_estimators=100, n_jobs=None, num_parallel_tree=None,\n",
      "              predictor=None, random_state=None, reg_alpha=None,\n",
      "              reg_lambda=None, scale_pos_weight=None, subsample=None,\n",
      "              tree_method=None, use_label_encoder=False,\n",
      "              validate_parameters=None, verbosity=None)\n"
     ]
    },
    {
     "name": "stderr",
     "output_type": "stream",
     "text": [
      "/home/azaelcarrillo/miniconda3/envs/XAI_credit/lib/python3.9/site-packages/xgboost/compat.py:36: FutureWarning: pandas.Int64Index is deprecated and will be removed from pandas in a future version. Use pandas.Index with the appropriate dtype instead.\n",
      "  from pandas import MultiIndex, Int64Index\n",
      "/home/azaelcarrillo/miniconda3/envs/XAI_credit/lib/python3.9/site-packages/xgboost/compat.py:36: FutureWarning: pandas.Int64Index is deprecated and will be removed from pandas in a future version. Use pandas.Index with the appropriate dtype instead.\n",
      "  from pandas import MultiIndex, Int64Index\n",
      "/home/azaelcarrillo/miniconda3/envs/XAI_credit/lib/python3.9/site-packages/xgboost/compat.py:36: FutureWarning: pandas.Int64Index is deprecated and will be removed from pandas in a future version. Use pandas.Index with the appropriate dtype instead.\n",
      "  from pandas import MultiIndex, Int64Index\n",
      "/home/azaelcarrillo/miniconda3/envs/XAI_credit/lib/python3.9/site-packages/xgboost/compat.py:36: FutureWarning: pandas.Int64Index is deprecated and will be removed from pandas in a future version. Use pandas.Index with the appropriate dtype instead.\n",
      "  from pandas import MultiIndex, Int64Index\n",
      "/home/azaelcarrillo/miniconda3/envs/XAI_credit/lib/python3.9/site-packages/xgboost/compat.py:36: FutureWarning: pandas.Int64Index is deprecated and will be removed from pandas in a future version. Use pandas.Index with the appropriate dtype instead.\n",
      "  from pandas import MultiIndex, Int64Index\n",
      "/home/azaelcarrillo/miniconda3/envs/XAI_credit/lib/python3.9/site-packages/xgboost/compat.py:36: FutureWarning: pandas.Int64Index is deprecated and will be removed from pandas in a future version. Use pandas.Index with the appropriate dtype instead.\n",
      "  from pandas import MultiIndex, Int64Index\n",
      "/home/azaelcarrillo/miniconda3/envs/XAI_credit/lib/python3.9/site-packages/xgboost/compat.py:36: FutureWarning: pandas.Int64Index is deprecated and will be removed from pandas in a future version. Use pandas.Index with the appropriate dtype instead.\n",
      "  from pandas import MultiIndex, Int64Index\n",
      "/home/azaelcarrillo/miniconda3/envs/XAI_credit/lib/python3.9/site-packages/xgboost/compat.py:36: FutureWarning: pandas.Int64Index is deprecated and will be removed from pandas in a future version. Use pandas.Index with the appropriate dtype instead.\n",
      "  from pandas import MultiIndex, Int64Index\n",
      "/home/azaelcarrillo/miniconda3/envs/XAI_credit/lib/python3.9/site-packages/xgboost/compat.py:36: FutureWarning: pandas.Int64Index is deprecated and will be removed from pandas in a future version. Use pandas.Index with the appropriate dtype instead.\n",
      "  from pandas import MultiIndex, Int64Index\n",
      "/home/azaelcarrillo/miniconda3/envs/XAI_credit/lib/python3.9/site-packages/xgboost/compat.py:36: FutureWarning: pandas.Int64Index is deprecated and will be removed from pandas in a future version. Use pandas.Index with the appropriate dtype instead.\n",
      "  from pandas import MultiIndex, Int64Index\n",
      "/home/azaelcarrillo/miniconda3/envs/XAI_credit/lib/python3.9/site-packages/xgboost/compat.py:36: FutureWarning: pandas.Int64Index is deprecated and will be removed from pandas in a future version. Use pandas.Index with the appropriate dtype instead.\n",
      "  from pandas import MultiIndex, Int64Index\n",
      "/home/azaelcarrillo/miniconda3/envs/XAI_credit/lib/python3.9/site-packages/xgboost/compat.py:36: FutureWarning: pandas.Int64Index is deprecated and will be removed from pandas in a future version. Use pandas.Index with the appropriate dtype instead.\n",
      "  from pandas import MultiIndex, Int64Index\n",
      "/home/azaelcarrillo/miniconda3/envs/XAI_credit/lib/python3.9/site-packages/xgboost/compat.py:36: FutureWarning: pandas.Int64Index is deprecated and will be removed from pandas in a future version. Use pandas.Index with the appropriate dtype instead.\n",
      "  from pandas import MultiIndex, Int64Index\n",
      "/home/azaelcarrillo/miniconda3/envs/XAI_credit/lib/python3.9/site-packages/xgboost/compat.py:36: FutureWarning: pandas.Int64Index is deprecated and will be removed from pandas in a future version. Use pandas.Index with the appropriate dtype instead.\n",
      "  from pandas import MultiIndex, Int64Index\n",
      "/home/azaelcarrillo/miniconda3/envs/XAI_credit/lib/python3.9/site-packages/xgboost/compat.py:36: FutureWarning: pandas.Int64Index is deprecated and will be removed from pandas in a future version. Use pandas.Index with the appropriate dtype instead.\n",
      "  from pandas import MultiIndex, Int64Index\n"
     ]
    },
    {
     "name": "stdout",
     "output_type": "stream",
     "text": [
      "min: 0.38541666666666663\n",
      "max: 0.5025125628140703\n",
      "mean: 0.4568635204666252\n",
      "[19:28:45] WARNING: ../src/learner.cc:1115: Starting in XGBoost 1.3.0, the default evaluation metric used with the objective 'binary:logistic' was changed from 'error' to 'logloss'. Explicitly set eval_metric if you'd like to restore the old behavior.\n",
      "[19:28:45] WARNING: ../src/learner.cc:1115: Starting in XGBoost 1.3.0, the default evaluation metric used with the objective 'binary:logistic' was changed from 'error' to 'logloss'. Explicitly set eval_metric if you'd like to restore the old behavior.\n",
      "[19:28:45] WARNING: ../src/learner.cc:1115: Starting in XGBoost 1.3.0, the default evaluation metric used with the objective 'binary:logistic' was changed from 'error' to 'logloss'. Explicitly set eval_metric if you'd like to restore the old behavior.\n",
      "[19:28:45] WARNING: ../src/learner.cc:1115: Starting in XGBoost 1.3.0, the default evaluation metric used with the objective 'binary:logistic' was changed from 'error' to 'logloss'. Explicitly set eval_metric if you'd like to restore the old behavior.\n",
      "[19:28:45] WARNING: ../src/learner.cc:1115: Starting in XGBoost 1.3.0, the default evaluation metric used with the objective 'binary:logistic' was changed from 'error' to 'logloss'. Explicitly set eval_metric if you'd like to restore the old behavior.\n",
      "[19:28:45] WARNING: ../src/learner.cc:1115: Starting in XGBoost 1.3.0, the default evaluation metric used with the objective 'binary:logistic' was changed from 'error' to 'logloss'. Explicitly set eval_metric if you'd like to restore the old behavior.\n",
      "[19:28:45] WARNING: ../src/learner.cc:1115: Starting in XGBoost 1.3.0, the default evaluation metric used with the objective 'binary:logistic' was changed from 'error' to 'logloss'. Explicitly set eval_metric if you'd like to restore the old behavior.\n",
      "[19:28:45] WARNING: ../src/learner.cc:1115: Starting in XGBoost 1.3.0, the default evaluation metric used with the objective 'binary:logistic' was changed from 'error' to 'logloss'. Explicitly set eval_metric if you'd like to restore the old behavior.\n",
      "[19:28:45] WARNING: ../src/learner.cc:1115: Starting in XGBoost 1.3.0, the default evaluation metric used with the objective 'binary:logistic' was changed from 'error' to 'logloss'. Explicitly set eval_metric if you'd like to restore the old behavior.\n",
      "[19:28:45] WARNING: ../src/learner.cc:1115: Starting in XGBoost 1.3.0, the default evaluation metric used with the objective 'binary:logistic' was changed from 'error' to 'logloss'. Explicitly set eval_metric if you'd like to restore the old behavior.\n",
      "[19:28:45] WARNING: ../src/learner.cc:1115: Starting in XGBoost 1.3.0, the default evaluation metric used with the objective 'binary:logistic' was changed from 'error' to 'logloss'. Explicitly set eval_metric if you'd like to restore the old behavior.\n",
      "[19:28:45] WARNING: ../src/learner.cc:1115: Starting in XGBoost 1.3.0, the default evaluation metric used with the objective 'binary:logistic' was changed from 'error' to 'logloss'. Explicitly set eval_metric if you'd like to restore the old behavior.\n",
      "[19:28:45] WARNING: ../src/learner.cc:1115: Starting in XGBoost 1.3.0, the default evaluation metric used with the objective 'binary:logistic' was changed from 'error' to 'logloss'. Explicitly set eval_metric if you'd like to restore the old behavior.\n",
      "[19:28:45] WARNING: ../src/learner.cc:1115: Starting in XGBoost 1.3.0, the default evaluation metric used with the objective 'binary:logistic' was changed from 'error' to 'logloss'. Explicitly set eval_metric if you'd like to restore the old behavior.\n",
      "[19:28:45] WARNING: ../src/learner.cc:1115: Starting in XGBoost 1.3.0, the default evaluation metric used with the objective 'binary:logistic' was changed from 'error' to 'logloss'. Explicitly set eval_metric if you'd like to restore the old behavior.\n"
     ]
    }
   ],
   "source": [
    "# define models\n",
    "models, names = get_models()\n",
    "results = list()\n",
    "# evaluate each model\n",
    "for model in models:\n",
    "    # define model to evaluate\n",
    "    norm = Normalizer()\n",
    "    # scale, then undersample, then fit model\n",
    "    pipeline = Pipeline(steps=[('nr',norm), ('m',model)])\n",
    "    # evaluate the model and store results\n",
    "    print(model)\n",
    "    if type(model) == GridSearchCV:\n",
    "        pipeline.fit(X_train, y_train)\n",
    "        grid = pipeline.named_steps['m']\n",
    "        grid_df = pd.DataFrame(grid.cv_results_)\n",
    "        filter_col = [col for col in grid_df if col.startswith('split')]\n",
    "        scores = grid_df[grid_df.mean_test_score == grid_df.mean_test_score.max()][filter_col].values.reshape((15,))\n",
    "    else:    \n",
    "        scores = evaluate_model(X_train, y_train, pipeline, make_scorer(f1_score))\n",
    "    results.append(scores)\n",
    "results = np.array(results).T\n",
    "results = pd.DataFrame(results, columns=names)\n",
    "sorted_index = results.mean().sort_values().index\n",
    "results = results[sorted_index]"
   ]
  },
  {
   "cell_type": "markdown",
   "id": "2f07810e-acc3-4705-9495-6a360a5805a8",
   "metadata": {},
   "source": [
    "## Guardar resultados y valores SHAP"
   ]
  },
  {
   "cell_type": "code",
   "execution_count": 58,
   "id": "0aacc78b-aa12-4ed6-89d9-c028ea5e0bd3",
   "metadata": {
    "tags": []
   },
   "outputs": [
    {
     "name": "stderr",
     "output_type": "stream",
     "text": [
      "X has feature names, but LogisticRegression was fitted without feature names\n",
      "X has feature names, but LogisticRegression was fitted without feature names\n",
      "X has feature names, but LogisticRegression was fitted without feature names\n",
      "X has feature names, but LogisticRegression was fitted without feature names\n",
      "X has feature names, but LinearDiscriminantAnalysis was fitted without feature names\n",
      "X has feature names, but LinearDiscriminantAnalysis was fitted without feature names\n"
     ]
    }
   ],
   "source": [
    "models, names = get_models()\n",
    "models_names = list(zip(models, names))\n",
    "test_f1s = []\n",
    "for model, name in models_names[0:3]:\n",
    "    norm = Normalizer()\n",
    "    # scale, then undersample, then fit model\n",
    "    pipeline = Pipeline(steps=[('nr',norm), ('m',model)])\n",
    "    pipeline.fit(X_train, y_train)\n",
    "    if type(pipeline.named_steps['m']) == GridSearchCV:\n",
    "        grid = pipeline.named_steps['m']\n",
    "        joblib.dump(grid, './results/modeling/{}_grid.pkl'.format(name))\n",
    "    smi = SaveModelInfo(pipeline, X_test, y_test)\n",
    "    smi.save_model()\n",
    "    test_f1s.append(smi.f1)"
   ]
  },
  {
   "cell_type": "markdown",
   "id": "b60a4dec-1eed-4ea5-b418-c3847afcde16",
   "metadata": {},
   "source": [
    "## Graficar resultados"
   ]
  },
  {
   "cell_type": "code",
   "execution_count": 29,
   "id": "1dca75f8-01ed-4e1b-bda5-95658803dd16",
   "metadata": {},
   "outputs": [],
   "source": [
    "import matplotlib.pyplot as plt\n",
    "import seaborn as sns\n",
    "import os\n",
    "\n",
    "# Solo para poder cargar el objeto gridsearch\n",
    "def _my_scorer():\n",
    "    return None"
   ]
  },
  {
   "cell_type": "code",
   "execution_count": 32,
   "id": "c5a423d3-0a06-4dc7-9943-309a9957dc96",
   "metadata": {
    "tags": []
   },
   "outputs": [],
   "source": [
    "# Cargar modelos adicionales\n",
    "import joblib\n",
    "# Giudici\n",
    "results['GIU'] = joblib.load('./results/giudici_scores.pkl')\n",
    "\n",
    "# Opti\n",
    "grid = joblib.load('./results/XGBoost/GridSearchCV_22-03-22_03-27-03/GridSearchCV_22-03-22_03-27-03.pkl')\n",
    "grid_df = pd.DataFrame(grid.cv_results_)\n",
    "filter_col = [col for col in grid_df if col.startswith('split')]\n",
    "results['XGBB'] = grid_df[grid_df.mean_test_score == grid_df.mean_test_score.max()][filter_col].values.reshape((15,))"
   ]
  },
  {
   "cell_type": "markdown",
   "id": "618c602c-f297-44dd-becf-86acc04f1247",
   "metadata": {},
   "source": [
    "### CV scores"
   ]
  },
  {
   "cell_type": "code",
   "execution_count": 33,
   "id": "c5564390-5896-4a5c-a94b-5fa3e98c9150",
   "metadata": {},
   "outputs": [
    {
     "data": {
      "image/png": "[encoded data removed]",
      "text/plain": [
       "<Figure size 576x288 with 1 Axes>"
      ]
     },
     "metadata": {
      "needs_background": "light"
     },
     "output_type": "display_data"
    }
   ],
   "source": [
    "sns.boxplot(x=\"variable\", y=\"value\", data=pd.melt(results))\n",
    "if not os.path.exists('figures/modeling_basic'):\n",
    "    os.makedirs('figures/modeling_basic')\n",
    "plt.ylabel('Valor F1 Incumplimiento')\n",
    "plt.xlabel('Modelo')\n",
    "fig = plt.gcf()\n",
    "fig.set_size_inches(8,4)\n",
    "fig.savefig('results/figures/modeling_basic/mb_F1_CV.png', bbox_inches='tight', dpi=300, transparent=True)\n",
    "fig.savefig('results/figures/modeling_basic/mb_F1_CV.svg', bbox_inches='tight', transparent=True)"
   ]
  },
  {
   "cell_type": "markdown",
   "id": "3f4b9e84-d006-40cc-9c2c-e82a86b0d1d3",
   "metadata": {},
   "source": [
    "### Métricas en test"
   ]
  },
  {
   "cell_type": "code",
   "execution_count": 36,
   "id": "64bae7bf-831d-4db4-8863-ec8e687a0162",
   "metadata": {},
   "outputs": [],
   "source": [
    "from sklearn.metrics import accuracy_score"
   ]
  },
  {
   "cell_type": "code",
   "execution_count": 39,
   "id": "0e4c495c-2890-4430-9e62-c5061dc83f32",
   "metadata": {
    "tags": []
   },
   "outputs": [],
   "source": [
    "models_paths = ['./results/XGBoost/GridSearchCV_22-03-22_03-27-03/models/best/best_xgb.pkl', \n",
    "                './results/Basic1/models/RandomForestClassifier.pkl',\n",
    "                './results/Basic1/models/XGBClassifier.pkl',\n",
    "                './results/Basic1/models/LogisticRegression.pkl',\n",
    "                './results/Basic1/models/LinearDiscriminantAnalysis.pkl']\n",
    "\n",
    "metricas_test = []\n",
    "for model in models_paths:\n",
    "    model_folder = '/'.join(model.split('/')[:-1])\n",
    "    model_name = model.split('/')[-1].split('.')[0]\n",
    "    model_results = joblib.load(model)\n",
    "    y_pred = model_results['y_pred']\n",
    "    y_proba = model_results['y_proba'][:,1]\n",
    "    \n",
    "    metricas = {}\n",
    "    metricas['Modelo'] = model_name\n",
    "    metricas['F1 1'] = f1_score(y_test, y_pred, average='binary', pos_label=1)\n",
    "    metricas['F1 0'] = f1_score(y_test, y_pred, average='binary', pos_label=0)\n",
    "    metricas['F1 macro'] = f1_score(y_test, y_pred, average='macro')\n",
    "    metricas['AUC'] = roc_auc_score(y_test, y_proba)\n",
    "    metricas['Precisión'] = accuracy_score(y_test, y_pred)\n",
    "    \n",
    "    metricas_test.append(metricas)\n",
    "    \n",
    "# Llenar metricas giudici a mano (Bussmann2020_replication)\n",
    "metricas = {}\n",
    "metricas['Modelo'] = 'Bussman'\n",
    "metricas['F1 1'] = 0.50\n",
    "metricas['F1 0'] = 0.9531\n",
    "metricas['F1 macro'] = 0.7265\n",
    "metricas['AUC'] = 0.8736\n",
    "metricas['Precisión'] = 0.9142\n",
    "\n",
    "metricas_test.append(metricas)"
   ]
  },
  {
   "cell_type": "code",
   "execution_count": 40,
   "id": "4fb950c6-e60c-4ae9-a455-6842e95339cb",
   "metadata": {},
   "outputs": [
    {
     "data": {
      "text/html": [
       "<div>\n",
       "<style scoped>\n",
       "    .dataframe tbody tr th:only-of-type {\n",
       "        vertical-align: middle;\n",
       "    }\n",
       "\n",
       "    .dataframe tbody tr th {\n",
       "        vertical-align: top;\n",
       "    }\n",
       "\n",
       "    .dataframe thead th {\n",
       "        text-align: right;\n",
       "    }\n",
       "</style>\n",
       "<table border=\"1\" class=\"dataframe\">\n",
       "  <thead>\n",
       "    <tr style=\"text-align: right;\">\n",
       "      <th></th>\n",
       "      <th>Modelo</th>\n",
       "      <th>F1 1</th>\n",
       "      <th>F1 0</th>\n",
       "      <th>F1 macro</th>\n",
       "      <th>AUC</th>\n",
       "      <th>Precisión</th>\n",
       "    </tr>\n",
       "  </thead>\n",
       "  <tbody>\n",
       "    <tr>\n",
       "      <th>0</th>\n",
       "      <td>best_xgb</td>\n",
       "      <td>0.548128</td>\n",
       "      <td>0.935863</td>\n",
       "      <td>0.741996</td>\n",
       "      <td>0.873553</td>\n",
       "      <td>0.887670</td>\n",
       "    </tr>\n",
       "    <tr>\n",
       "      <th>1</th>\n",
       "      <td>RandomForestClassifier</td>\n",
       "      <td>0.495868</td>\n",
       "      <td>0.955909</td>\n",
       "      <td>0.725888</td>\n",
       "      <td>0.877861</td>\n",
       "      <td>0.918910</td>\n",
       "    </tr>\n",
       "    <tr>\n",
       "      <th>2</th>\n",
       "      <td>XGBClassifier</td>\n",
       "      <td>0.507937</td>\n",
       "      <td>0.955024</td>\n",
       "      <td>0.731480</td>\n",
       "      <td>0.853091</td>\n",
       "      <td>0.917581</td>\n",
       "    </tr>\n",
       "    <tr>\n",
       "      <th>3</th>\n",
       "      <td>LogisticRegression</td>\n",
       "      <td>0.154255</td>\n",
       "      <td>0.943637</td>\n",
       "      <td>0.548946</td>\n",
       "      <td>0.768636</td>\n",
       "      <td>0.894317</td>\n",
       "    </tr>\n",
       "    <tr>\n",
       "      <th>4</th>\n",
       "      <td>LinearDiscriminantAnalysis</td>\n",
       "      <td>0.245940</td>\n",
       "      <td>0.941829</td>\n",
       "      <td>0.593884</td>\n",
       "      <td>0.774951</td>\n",
       "      <td>0.891991</td>\n",
       "    </tr>\n",
       "    <tr>\n",
       "      <th>5</th>\n",
       "      <td>Bussman</td>\n",
       "      <td>0.500000</td>\n",
       "      <td>0.953100</td>\n",
       "      <td>0.726500</td>\n",
       "      <td>0.873600</td>\n",
       "      <td>0.914200</td>\n",
       "    </tr>\n",
       "  </tbody>\n",
       "</table>\n",
       "</div>"
      ],
      "text/plain": [
       "                       Modelo      F1 1      F1 0  F1 macro       AUC  \\\n",
       "0                    best_xgb  0.548128  0.935863  0.741996  0.873553   \n",
       "1      RandomForestClassifier  0.495868  0.955909  0.725888  0.877861   \n",
       "2               XGBClassifier  0.507937  0.955024  0.731480  0.853091   \n",
       "3          LogisticRegression  0.154255  0.943637  0.548946  0.768636   \n",
       "4  LinearDiscriminantAnalysis  0.245940  0.941829  0.593884  0.774951   \n",
       "5                     Bussman  0.500000  0.953100  0.726500  0.873600   \n",
       "\n",
       "   Precisión  \n",
       "0   0.887670  \n",
       "1   0.918910  \n",
       "2   0.917581  \n",
       "3   0.894317  \n",
       "4   0.891991  \n",
       "5   0.914200  "
      ]
     },
     "execution_count": 40,
     "metadata": {},
     "output_type": "execute_result"
    }
   ],
   "source": [
    "pd.DataFrame(metricas_test)"
   ]
  },
  {
   "cell_type": "markdown",
   "id": "dc16763a-29fb-4595-b889-718a2255c254",
   "metadata": {},
   "source": [
    "## Remuestreo"
   ]
  },
  {
   "cell_type": "code",
   "execution_count": 9,
   "id": "a3c05fab-2799-4667-a3a9-ac905fb4a9f7",
   "metadata": {},
   "outputs": [],
   "source": [
    "from imblearn.pipeline import Pipeline\n",
    "from imblearn.under_sampling import TomekLinks\n",
    "from imblearn.under_sampling import EditedNearestNeighbours\n",
    "from imblearn.under_sampling import RepeatedEditedNearestNeighbours\n",
    "from imblearn.under_sampling import NeighbourhoodCleaningRule\n",
    "from imblearn.under_sampling import OneSidedSelection\n",
    "from imblearn.under_sampling import InstanceHardnessThreshold"
   ]
  },
  {
   "cell_type": "code",
   "execution_count": 10,
   "id": "e24778fd-5900-44ab-89c2-b315e5e10321",
   "metadata": {},
   "outputs": [],
   "source": [
    "def get_models():\n",
    "    models, names = list(), list()\n",
    "    # TL\n",
    "    models.append(TomekLinks())\n",
    "    names.append('TL')\n",
    "    # ENN\n",
    "    models.append(EditedNearestNeighbours())\n",
    "    names.append('ENN')\n",
    "    # RENN\n",
    "    models.append(RepeatedEditedNearestNeighbours())\n",
    "    names.append('RENN')\n",
    "    # NCR\n",
    "    models.append(NeighbourhoodCleaningRule())\n",
    "    names.append('NCR')\n",
    "    # IHT\n",
    "    models.append(InstanceHardnessThreshold())\n",
    "    names.append('IHT')\n",
    "    return models, names"
   ]
  },
  {
   "cell_type": "code",
   "execution_count": null,
   "id": "4cc362ee-dfb9-4d93-88f2-00d924664c99",
   "metadata": {
    "collapsed": true,
    "jupyter": {
     "outputs_hidden": true
    },
    "tags": []
   },
   "outputs": [
    {
     "name": "stdout",
     "output_type": "stream",
     "text": [
      "TomekLinks()\n",
      "min: 0.6692156469968927\n",
      "max: 0.734985223914526\n",
      "mean: 0.706710337870647\n",
      "EditedNearestNeighbours()\n",
      "min: 0.6875234780687217\n",
      "max: 0.7446709916589435\n",
      "mean: 0.7168172767263815\n",
      "RepeatedEditedNearestNeighbours()\n",
      "min: 0.6596952701859183\n",
      "max: 0.7218696851352\n",
      "mean: 0.6942059960708669\n",
      "OneSidedSelection()\n"
     ]
    },
    {
     "name": "stderr",
     "output_type": "stream",
     "text": [
      "C:\\Users\\azael\\miniconda3\\envs\\ciencia_datos_nogpu\\lib\\site-packages\\sklearn\\model_selection\\_validation.py:372: FitFailedWarning: \n",
      "4 fits failed out of a total of 15.\n",
      "The score on these train-test partitions for these parameters will be set to nan.\n",
      "If these failures are not expected, you can try to debug them by setting error_score='raise'.\n",
      "\n",
      "Below are more details about the failures:\n",
      "--------------------------------------------------------------------------------\n",
      "1 fits failed with the following error:\n",
      "Traceback (most recent call last):\n",
      "  File \"C:\\Users\\azael\\miniconda3\\envs\\ciencia_datos_nogpu\\lib\\site-packages\\sklearn\\model_selection\\_validation.py\", line 680, in _fit_and_score\n",
      "    estimator.fit(X_train, y_train, **fit_params)\n",
      "  File \"C:\\Users\\azael\\miniconda3\\envs\\ciencia_datos_nogpu\\lib\\site-packages\\imblearn\\pipeline.py\", line 268, in fit\n",
      "    Xt, yt = self._fit(X, y, **fit_params_steps)\n",
      "  File \"C:\\Users\\azael\\miniconda3\\envs\\ciencia_datos_nogpu\\lib\\site-packages\\imblearn\\pipeline.py\", line 226, in _fit\n",
      "    X, y, fitted_transformer = fit_resample_one_cached(\n",
      "  File \"C:\\Users\\azael\\miniconda3\\envs\\ciencia_datos_nogpu\\lib\\site-packages\\joblib\\memory.py\", line 349, in __call__\n",
      "    return self.func(*args, **kwargs)\n",
      "  File \"C:\\Users\\azael\\miniconda3\\envs\\ciencia_datos_nogpu\\lib\\site-packages\\imblearn\\pipeline.py\", line 394, in _fit_resample_one\n",
      "    X_res, y_res = sampler.fit_resample(X, y, **fit_params)\n",
      "  File \"C:\\Users\\azael\\miniconda3\\envs\\ciencia_datos_nogpu\\lib\\site-packages\\imblearn\\base.py\", line 83, in fit_resample\n",
      "    output = self._fit_resample(X, y)\n",
      "  File \"C:\\Users\\azael\\miniconda3\\envs\\ciencia_datos_nogpu\\lib\\site-packages\\imblearn\\under_sampling\\_prototype_selection\\_one_sided_selection.py\", line 187, in _fit_resample\n",
      "    X_cleaned, y_cleaned = tl.fit_resample(X_resampled, y_resampled)\n",
      "  File \"C:\\Users\\azael\\miniconda3\\envs\\ciencia_datos_nogpu\\lib\\site-packages\\imblearn\\base.py\", line 83, in fit_resample\n",
      "    output = self._fit_resample(X, y)\n",
      "  File \"C:\\Users\\azael\\miniconda3\\envs\\ciencia_datos_nogpu\\lib\\site-packages\\imblearn\\under_sampling\\_prototype_selection\\_tomek_links.py\", line 139, in _fit_resample\n",
      "    nns = nn.kneighbors(X, return_distance=False)[:, 1]\n",
      "  File \"C:\\Users\\azael\\miniconda3\\envs\\ciencia_datos_nogpu\\lib\\site-packages\\sklearn\\neighbors\\_base.py\", line 752, in kneighbors\n",
      "    chunked_results = list(\n",
      "  File \"C:\\Users\\azael\\miniconda3\\envs\\ciencia_datos_nogpu\\lib\\site-packages\\sklearn\\metrics\\pairwise.py\", line 1717, in pairwise_distances_chunked\n",
      "    D_chunk = pairwise_distances(X_chunk, Y, metric=metric, n_jobs=n_jobs, **kwds)\n",
      "  File \"C:\\Users\\azael\\miniconda3\\envs\\ciencia_datos_nogpu\\lib\\site-packages\\sklearn\\metrics\\pairwise.py\", line 1889, in pairwise_distances\n",
      "    return _parallel_pairwise(X, Y, func, n_jobs, **kwds)\n",
      "  File \"C:\\Users\\azael\\miniconda3\\envs\\ciencia_datos_nogpu\\lib\\site-packages\\sklearn\\metrics\\pairwise.py\", line 1430, in _parallel_pairwise\n",
      "    return func(X, Y, **kwds)\n",
      "  File \"C:\\Users\\azael\\miniconda3\\envs\\ciencia_datos_nogpu\\lib\\site-packages\\sklearn\\metrics\\pairwise.py\", line 330, in euclidean_distances\n",
      "    return _euclidean_distances(X, Y, X_norm_squared, Y_norm_squared, squared)\n",
      "  File \"C:\\Users\\azael\\miniconda3\\envs\\ciencia_datos_nogpu\\lib\\site-packages\\sklearn\\metrics\\pairwise.py\", line 371, in _euclidean_distances\n",
      "    distances = -2 * safe_sparse_dot(X, Y.T, dense_output=True)\n",
      "numpy.core._exceptions._ArrayMemoryError: Unable to allocate 705. MiB for an array with shape (9611, 9611) and data type float64\n",
      "\n",
      "--------------------------------------------------------------------------------\n",
      "1 fits failed with the following error:\n",
      "Traceback (most recent call last):\n",
      "  File \"C:\\Users\\azael\\miniconda3\\envs\\ciencia_datos_nogpu\\lib\\site-packages\\sklearn\\model_selection\\_validation.py\", line 680, in _fit_and_score\n",
      "    estimator.fit(X_train, y_train, **fit_params)\n",
      "  File \"C:\\Users\\azael\\miniconda3\\envs\\ciencia_datos_nogpu\\lib\\site-packages\\imblearn\\pipeline.py\", line 268, in fit\n",
      "    Xt, yt = self._fit(X, y, **fit_params_steps)\n",
      "  File \"C:\\Users\\azael\\miniconda3\\envs\\ciencia_datos_nogpu\\lib\\site-packages\\imblearn\\pipeline.py\", line 226, in _fit\n",
      "    X, y, fitted_transformer = fit_resample_one_cached(\n",
      "  File \"C:\\Users\\azael\\miniconda3\\envs\\ciencia_datos_nogpu\\lib\\site-packages\\joblib\\memory.py\", line 349, in __call__\n",
      "    return self.func(*args, **kwargs)\n",
      "  File \"C:\\Users\\azael\\miniconda3\\envs\\ciencia_datos_nogpu\\lib\\site-packages\\imblearn\\pipeline.py\", line 394, in _fit_resample_one\n",
      "    X_res, y_res = sampler.fit_resample(X, y, **fit_params)\n",
      "  File \"C:\\Users\\azael\\miniconda3\\envs\\ciencia_datos_nogpu\\lib\\site-packages\\imblearn\\base.py\", line 83, in fit_resample\n",
      "    output = self._fit_resample(X, y)\n",
      "  File \"C:\\Users\\azael\\miniconda3\\envs\\ciencia_datos_nogpu\\lib\\site-packages\\imblearn\\under_sampling\\_prototype_selection\\_one_sided_selection.py\", line 187, in _fit_resample\n",
      "    X_cleaned, y_cleaned = tl.fit_resample(X_resampled, y_resampled)\n",
      "  File \"C:\\Users\\azael\\miniconda3\\envs\\ciencia_datos_nogpu\\lib\\site-packages\\imblearn\\base.py\", line 83, in fit_resample\n",
      "    output = self._fit_resample(X, y)\n",
      "  File \"C:\\Users\\azael\\miniconda3\\envs\\ciencia_datos_nogpu\\lib\\site-packages\\imblearn\\under_sampling\\_prototype_selection\\_tomek_links.py\", line 139, in _fit_resample\n",
      "    nns = nn.kneighbors(X, return_distance=False)[:, 1]\n",
      "  File \"C:\\Users\\azael\\miniconda3\\envs\\ciencia_datos_nogpu\\lib\\site-packages\\sklearn\\neighbors\\_base.py\", line 752, in kneighbors\n",
      "    chunked_results = list(\n",
      "  File \"C:\\Users\\azael\\miniconda3\\envs\\ciencia_datos_nogpu\\lib\\site-packages\\sklearn\\metrics\\pairwise.py\", line 1717, in pairwise_distances_chunked\n",
      "    D_chunk = pairwise_distances(X_chunk, Y, metric=metric, n_jobs=n_jobs, **kwds)\n",
      "  File \"C:\\Users\\azael\\miniconda3\\envs\\ciencia_datos_nogpu\\lib\\site-packages\\sklearn\\metrics\\pairwise.py\", line 1889, in pairwise_distances\n",
      "    return _parallel_pairwise(X, Y, func, n_jobs, **kwds)\n",
      "  File \"C:\\Users\\azael\\miniconda3\\envs\\ciencia_datos_nogpu\\lib\\site-packages\\sklearn\\metrics\\pairwise.py\", line 1430, in _parallel_pairwise\n",
      "    return func(X, Y, **kwds)\n",
      "  File \"C:\\Users\\azael\\miniconda3\\envs\\ciencia_datos_nogpu\\lib\\site-packages\\sklearn\\metrics\\pairwise.py\", line 330, in euclidean_distances\n",
      "    return _euclidean_distances(X, Y, X_norm_squared, Y_norm_squared, squared)\n",
      "  File \"C:\\Users\\azael\\miniconda3\\envs\\ciencia_datos_nogpu\\lib\\site-packages\\sklearn\\metrics\\pairwise.py\", line 371, in _euclidean_distances\n",
      "    distances = -2 * safe_sparse_dot(X, Y.T, dense_output=True)\n",
      "numpy.core._exceptions._ArrayMemoryError: Unable to allocate 707. MiB for an array with shape (9624, 9624) and data type float64\n",
      "\n",
      "--------------------------------------------------------------------------------\n",
      "1 fits failed with the following error:\n",
      "Traceback (most recent call last):\n",
      "  File \"C:\\Users\\azael\\miniconda3\\envs\\ciencia_datos_nogpu\\lib\\site-packages\\sklearn\\model_selection\\_validation.py\", line 680, in _fit_and_score\n",
      "    estimator.fit(X_train, y_train, **fit_params)\n",
      "  File \"C:\\Users\\azael\\miniconda3\\envs\\ciencia_datos_nogpu\\lib\\site-packages\\imblearn\\pipeline.py\", line 268, in fit\n",
      "    Xt, yt = self._fit(X, y, **fit_params_steps)\n",
      "  File \"C:\\Users\\azael\\miniconda3\\envs\\ciencia_datos_nogpu\\lib\\site-packages\\imblearn\\pipeline.py\", line 226, in _fit\n",
      "    X, y, fitted_transformer = fit_resample_one_cached(\n",
      "  File \"C:\\Users\\azael\\miniconda3\\envs\\ciencia_datos_nogpu\\lib\\site-packages\\joblib\\memory.py\", line 349, in __call__\n",
      "    return self.func(*args, **kwargs)\n",
      "  File \"C:\\Users\\azael\\miniconda3\\envs\\ciencia_datos_nogpu\\lib\\site-packages\\imblearn\\pipeline.py\", line 394, in _fit_resample_one\n",
      "    X_res, y_res = sampler.fit_resample(X, y, **fit_params)\n",
      "  File \"C:\\Users\\azael\\miniconda3\\envs\\ciencia_datos_nogpu\\lib\\site-packages\\imblearn\\base.py\", line 83, in fit_resample\n",
      "    output = self._fit_resample(X, y)\n",
      "  File \"C:\\Users\\azael\\miniconda3\\envs\\ciencia_datos_nogpu\\lib\\site-packages\\imblearn\\under_sampling\\_prototype_selection\\_one_sided_selection.py\", line 187, in _fit_resample\n",
      "    X_cleaned, y_cleaned = tl.fit_resample(X_resampled, y_resampled)\n",
      "  File \"C:\\Users\\azael\\miniconda3\\envs\\ciencia_datos_nogpu\\lib\\site-packages\\imblearn\\base.py\", line 83, in fit_resample\n",
      "    output = self._fit_resample(X, y)\n",
      "  File \"C:\\Users\\azael\\miniconda3\\envs\\ciencia_datos_nogpu\\lib\\site-packages\\imblearn\\under_sampling\\_prototype_selection\\_tomek_links.py\", line 139, in _fit_resample\n",
      "    nns = nn.kneighbors(X, return_distance=False)[:, 1]\n",
      "  File \"C:\\Users\\azael\\miniconda3\\envs\\ciencia_datos_nogpu\\lib\\site-packages\\sklearn\\neighbors\\_base.py\", line 752, in kneighbors\n",
      "    chunked_results = list(\n",
      "  File \"C:\\Users\\azael\\miniconda3\\envs\\ciencia_datos_nogpu\\lib\\site-packages\\sklearn\\metrics\\pairwise.py\", line 1717, in pairwise_distances_chunked\n",
      "    D_chunk = pairwise_distances(X_chunk, Y, metric=metric, n_jobs=n_jobs, **kwds)\n",
      "  File \"C:\\Users\\azael\\miniconda3\\envs\\ciencia_datos_nogpu\\lib\\site-packages\\sklearn\\metrics\\pairwise.py\", line 1889, in pairwise_distances\n",
      "    return _parallel_pairwise(X, Y, func, n_jobs, **kwds)\n",
      "  File \"C:\\Users\\azael\\miniconda3\\envs\\ciencia_datos_nogpu\\lib\\site-packages\\sklearn\\metrics\\pairwise.py\", line 1430, in _parallel_pairwise\n",
      "    return func(X, Y, **kwds)\n",
      "  File \"C:\\Users\\azael\\miniconda3\\envs\\ciencia_datos_nogpu\\lib\\site-packages\\sklearn\\metrics\\pairwise.py\", line 330, in euclidean_distances\n",
      "    return _euclidean_distances(X, Y, X_norm_squared, Y_norm_squared, squared)\n",
      "  File \"C:\\Users\\azael\\miniconda3\\envs\\ciencia_datos_nogpu\\lib\\site-packages\\sklearn\\metrics\\pairwise.py\", line 371, in _euclidean_distances\n",
      "    distances = -2 * safe_sparse_dot(X, Y.T, dense_output=True)\n",
      "numpy.core._exceptions._ArrayMemoryError: Unable to allocate 700. MiB for an array with shape (9578, 9578) and data type float64\n",
      "\n",
      "--------------------------------------------------------------------------------\n",
      "1 fits failed with the following error:\n",
      "Traceback (most recent call last):\n",
      "  File \"C:\\Users\\azael\\miniconda3\\envs\\ciencia_datos_nogpu\\lib\\site-packages\\sklearn\\model_selection\\_validation.py\", line 680, in _fit_and_score\n",
      "    estimator.fit(X_train, y_train, **fit_params)\n",
      "  File \"C:\\Users\\azael\\miniconda3\\envs\\ciencia_datos_nogpu\\lib\\site-packages\\imblearn\\pipeline.py\", line 268, in fit\n",
      "    Xt, yt = self._fit(X, y, **fit_params_steps)\n",
      "  File \"C:\\Users\\azael\\miniconda3\\envs\\ciencia_datos_nogpu\\lib\\site-packages\\imblearn\\pipeline.py\", line 226, in _fit\n",
      "    X, y, fitted_transformer = fit_resample_one_cached(\n",
      "  File \"C:\\Users\\azael\\miniconda3\\envs\\ciencia_datos_nogpu\\lib\\site-packages\\joblib\\memory.py\", line 349, in __call__\n",
      "    return self.func(*args, **kwargs)\n",
      "  File \"C:\\Users\\azael\\miniconda3\\envs\\ciencia_datos_nogpu\\lib\\site-packages\\imblearn\\pipeline.py\", line 394, in _fit_resample_one\n",
      "    X_res, y_res = sampler.fit_resample(X, y, **fit_params)\n",
      "  File \"C:\\Users\\azael\\miniconda3\\envs\\ciencia_datos_nogpu\\lib\\site-packages\\imblearn\\base.py\", line 83, in fit_resample\n",
      "    output = self._fit_resample(X, y)\n",
      "  File \"C:\\Users\\azael\\miniconda3\\envs\\ciencia_datos_nogpu\\lib\\site-packages\\imblearn\\under_sampling\\_prototype_selection\\_one_sided_selection.py\", line 187, in _fit_resample\n",
      "    X_cleaned, y_cleaned = tl.fit_resample(X_resampled, y_resampled)\n",
      "  File \"C:\\Users\\azael\\miniconda3\\envs\\ciencia_datos_nogpu\\lib\\site-packages\\imblearn\\base.py\", line 83, in fit_resample\n",
      "    output = self._fit_resample(X, y)\n",
      "  File \"C:\\Users\\azael\\miniconda3\\envs\\ciencia_datos_nogpu\\lib\\site-packages\\imblearn\\under_sampling\\_prototype_selection\\_tomek_links.py\", line 139, in _fit_resample\n",
      "    nns = nn.kneighbors(X, return_distance=False)[:, 1]\n",
      "  File \"C:\\Users\\azael\\miniconda3\\envs\\ciencia_datos_nogpu\\lib\\site-packages\\sklearn\\neighbors\\_base.py\", line 752, in kneighbors\n",
      "    chunked_results = list(\n",
      "  File \"C:\\Users\\azael\\miniconda3\\envs\\ciencia_datos_nogpu\\lib\\site-packages\\sklearn\\metrics\\pairwise.py\", line 1717, in pairwise_distances_chunked\n",
      "    D_chunk = pairwise_distances(X_chunk, Y, metric=metric, n_jobs=n_jobs, **kwds)\n",
      "  File \"C:\\Users\\azael\\miniconda3\\envs\\ciencia_datos_nogpu\\lib\\site-packages\\sklearn\\metrics\\pairwise.py\", line 1889, in pairwise_distances\n",
      "    return _parallel_pairwise(X, Y, func, n_jobs, **kwds)\n",
      "  File \"C:\\Users\\azael\\miniconda3\\envs\\ciencia_datos_nogpu\\lib\\site-packages\\sklearn\\metrics\\pairwise.py\", line 1430, in _parallel_pairwise\n",
      "    return func(X, Y, **kwds)\n",
      "  File \"C:\\Users\\azael\\miniconda3\\envs\\ciencia_datos_nogpu\\lib\\site-packages\\sklearn\\metrics\\pairwise.py\", line 330, in euclidean_distances\n",
      "    return _euclidean_distances(X, Y, X_norm_squared, Y_norm_squared, squared)\n",
      "  File \"C:\\Users\\azael\\miniconda3\\envs\\ciencia_datos_nogpu\\lib\\site-packages\\sklearn\\metrics\\pairwise.py\", line 371, in _euclidean_distances\n",
      "    distances = -2 * safe_sparse_dot(X, Y.T, dense_output=True)\n",
      "numpy.core._exceptions._ArrayMemoryError: Unable to allocate 703. MiB for an array with shape (9599, 9599) and data type float64\n",
      "\n",
      "  warnings.warn(some_fits_failed_message, FitFailedWarning)\n"
     ]
    },
    {
     "name": "stdout",
     "output_type": "stream",
     "text": [
      "min: nan\n",
      "max: nan\n",
      "mean: nan\n",
      "NeighbourhoodCleaningRule()\n"
     ]
    }
   ],
   "source": [
    "# define models\n",
    "models, names = get_models()\n",
    "results = list()\n",
    "# evaluate each model\n",
    "for i in range(len(models)):\n",
    "    # define model to evaluate\n",
    "    model = XGBClassifier(use_label_encoder=False)\n",
    "    # scale, then undersample, then fit model\n",
    "    pipeline = Pipeline(steps=[('nr',norm), ('s', models[i]), ('m',model)])\n",
    "    # evaluate the model and store results\n",
    "    print(models[i])\n",
    "    scores = evaluate_model(X_train, y_train, pipeline, f1_macro)\n",
    "    results.append(scores)\n",
    "results = np.array(results).T\n",
    "results = pd.DataFrame(results, columns=names)\n",
    "sorted_index = results.mean().sort_values().index\n",
    "results = results[sorted_index]\n",
    "results['GIU'] = joblib.load('giudici_scores.pkl')"
   ]
  },
  {
   "cell_type": "code",
   "execution_count": 13,
   "id": "c87dae20-a3ea-426a-998c-3bdc77f72419",
   "metadata": {},
   "outputs": [
    {
     "data": {
      "image/png": "[encoded data removed]",
      "text/plain": [
       "<Figure size 432x288 with 1 Axes>"
      ]
     },
     "metadata": {
      "needs_background": "light"
     },
     "output_type": "display_data"
    }
   ],
   "source": [
    "sns.boxplot(x=\"variable\", y=\"value\", data=pd.melt(results))\n",
    "if not os.path.exists('figures/modeling_basic'):\n",
    "    os.makedirs('figures/modeling_basic')\n",
    "plt.ylabel('Macro valor F1')\n",
    "plt.xlabel('Tecnica de submuestreo')\n",
    "plt.savefig('figures/modeling_basic/mb_subsample.png', bbox_inches='tight', dpi=300, transparent=True)"
   ]
  },
  {
   "cell_type": "code",
   "execution_count": 45,
   "id": "613e5e52-086b-4b96-b8ea-5c038a76c791",
   "metadata": {},
   "outputs": [
    {
     "name": "stdout",
     "output_type": "stream",
     "text": [
      "TomekLinks()\n",
      "min: 0.6812854191050038\n",
      "max: 0.7293561923308759\n",
      "mean: 0.7081888635843062\n",
      "EditedNearestNeighbours()\n",
      "min: 0.7000215265739891\n",
      "max: 0.7437260988424574\n",
      "mean: 0.7249927388509014\n",
      "RepeatedEditedNearestNeighbours()\n",
      "min: 0.6913181622602478\n",
      "max: 0.7152153336488405\n",
      "mean: 0.7038746760261354\n",
      "OneSidedSelection()\n",
      "min: 0.6766241594167114\n",
      "max: 0.7346257206514\n",
      "mean: 0.7071219612210558\n",
      "NeighbourhoodCleaningRule()\n",
      "min: 0.684745794768136\n",
      "max: 0.7470828359460056\n",
      "mean: 0.7199188261331855\n",
      "InstanceHardnessThreshold()\n",
      "min: 0.472813758834455\n",
      "max: 0.4938446193816107\n",
      "mean: 0.4856295232665266\n"
     ]
    }
   ],
   "source": [
    "# define models\n",
    "models, names = get_models()\n",
    "results = list()\n",
    "# evaluate each model\n",
    "for i in range(len(models)):\n",
    "    # define model to evaluate\n",
    "    model = RandomForestClassifier()\n",
    "    # scale, then undersample, then fit model\n",
    "    pipeline = Pipeline(steps=[('nr',norm), ('s', models[i]), ('m',model)])\n",
    "    # evaluate the model and store results\n",
    "    print(models[i])\n",
    "    evaluate_model(X_train, y_train, pipeline, f1_macro)"
   ]
  },
  {
   "cell_type": "code",
   "execution_count": 38,
   "id": "9e97e23c-7b5b-4c2f-a8cd-a26d66a84b15",
   "metadata": {},
   "outputs": [
    {
     "name": "stdout",
     "output_type": "stream",
     "text": [
      "[04:28:44] WARNING: ..\\src\\learner.cc:1115: Starting in XGBoost 1.3.0, the default evaluation metric used with the objective 'binary:logistic' was changed from 'error' to 'logloss'. Explicitly set eval_metric if you'd like to restore the old behavior.\n"
     ]
    },
    {
     "data": {
      "text/plain": [
       "Pipeline(steps=[('nr', Normalizer()), ('s', EditedNearestNeighbours()),\n",
       "                ('m',\n",
       "                 XGBClassifier(base_score=0.5, booster='gbtree',\n",
       "                               colsample_bylevel=1, colsample_bynode=1,\n",
       "                               colsample_bytree=1, enable_categorical=False,\n",
       "                               gamma=0, gpu_id=-1, importance_type=None,\n",
       "                               interaction_constraints='',\n",
       "                               learning_rate=0.300000012, max_delta_step=0,\n",
       "                               max_depth=6, min_child_weight=1, missing=nan,\n",
       "                               monotone_constraints='()', n_estimators=100,\n",
       "                               n_jobs=12, num_parallel_tree=1, predictor='auto',\n",
       "                               random_state=0, reg_alpha=0, reg_lambda=1,\n",
       "                               scale_pos_weight=1, subsample=1,\n",
       "                               tree_method='exact', use_label_encoder=False,\n",
       "                               validate_parameters=1, verbosity=None))])"
      ]
     },
     "execution_count": 38,
     "metadata": {},
     "output_type": "execute_result"
    }
   ],
   "source": [
    "model = XGBClassifier(use_label_encoder=False)\n",
    "# scale, then undersample, then fit model\n",
    "pipeline = Pipeline(steps=[('nr',norm), ('s', models[1]), ('m',model)])\n",
    "pipeline.fit(X_train, y_train)"
   ]
  },
  {
   "cell_type": "code",
   "execution_count": 43,
   "id": "c30151e0-e488-4bfc-b739-540142cbe121",
   "metadata": {},
   "outputs": [],
   "source": [
    "from sklearn.metrics import ConfusionMatrixDisplay"
   ]
  },
  {
   "cell_type": "code",
   "execution_count": 41,
   "id": "512b01ac-bc5b-4fa5-bd40-fc67814572b6",
   "metadata": {},
   "outputs": [
    {
     "name": "stdout",
     "output_type": "stream",
     "text": [
      "              precision    recall  f1-score   support\n",
      "\n",
      "           0       0.95      0.95      0.95      2683\n",
      "           1       0.58      0.55      0.56       326\n",
      "\n",
      "    accuracy                           0.91      3009\n",
      "   macro avg       0.76      0.75      0.75      3009\n",
      "weighted avg       0.91      0.91      0.91      3009\n",
      "\n"
     ]
    }
   ],
   "source": [
    "y_pred = pipeline.predict(X_test)\n",
    "print(classification_report(y_test, y_pred))"
   ]
  },
  {
   "cell_type": "code",
   "execution_count": 44,
   "id": "7cb0ce47-5586-40ae-8a80-f2deee13ccb5",
   "metadata": {},
   "outputs": [
    {
     "data": {
      "text/plain": [
       "<sklearn.metrics._plot.confusion_matrix.ConfusionMatrixDisplay at 0x22aba598250>"
      ]
     },
     "execution_count": 44,
     "metadata": {},
     "output_type": "execute_result"
    },
    {
     "data": {
      "image/png": "[encoded data removed]",
      "text/plain": [
       "<Figure size 432x288 with 2 Axes>"
      ]
     },
     "metadata": {
      "needs_background": "light"
     },
     "output_type": "display_data"
    }
   ],
   "source": [
    "ConfusionMatrixDisplay.from_predictions(y_test, y_pred)"
   ]
  },
  {
   "cell_type": "code",
   "execution_count": null,
   "id": "6948d83d-35da-435e-bace-12273e8c296a",
   "metadata": {},
   "outputs": [],
   "source": []
  },
  {
   "cell_type": "code",
   "execution_count": null,
   "id": "69274b8c-3c89-4feb-8d5e-5032b6617a96",
   "metadata": {},
   "outputs": [],
   "source": []
  },
  {
   "cell_type": "code",
   "execution_count": 54,
   "id": "876510bc-f5cb-4120-ac54-59be13644cec",
   "metadata": {},
   "outputs": [
    {
     "name": "stderr",
     "output_type": "stream",
     "text": [
      "pandas.Int64Index is deprecated and will be removed from pandas in a future version. Use pandas.Index with the appropriate dtype instead.\n"
     ]
    },
    {
     "data": {
      "text/plain": [
       "0.5481283422459893"
      ]
     },
     "execution_count": 54,
     "metadata": {},
     "output_type": "execute_result"
    }
   ],
   "source": [
    "f1_scorer(grid, X_test, y_test)"
   ]
  },
  {
   "cell_type": "code",
   "execution_count": 58,
   "id": "28d18ec1-64f0-4870-9f2a-63940909aa3d",
   "metadata": {},
   "outputs": [],
   "source": [
    "from sklearn.metrics import roc_auc_score"
   ]
  },
  {
   "cell_type": "code",
   "execution_count": null,
   "id": "cd2fc229-6f67-4510-b87d-1ed8fdf03004",
   "metadata": {},
   "outputs": [],
   "source": []
  },
  {
   "cell_type": "code",
   "execution_count": 56,
   "id": "f4e85509-c55f-455e-a017-0b2a813eca60",
   "metadata": {},
   "outputs": [
    {
     "name": "stdout",
     "output_type": "stream",
     "text": [
      "              precision    recall  f1-score   support\n",
      "\n",
      "           0       0.95      0.92      0.94      2683\n",
      "           1       0.49      0.63      0.55       326\n",
      "\n",
      "    accuracy                           0.89      3009\n",
      "   macro avg       0.72      0.77      0.74      3009\n",
      "weighted avg       0.90      0.89      0.89      3009\n",
      "\n"
     ]
    },
    {
     "name": "stderr",
     "output_type": "stream",
     "text": [
      "pandas.Int64Index is deprecated and will be removed from pandas in a future version. Use pandas.Index with the appropriate dtype instead.\n"
     ]
    }
   ],
   "source": [
    "y_pred = grid.predict(X_test)\n",
    "\n",
    "print(classification_report(y_test, y_pred))"
   ]
  },
  {
   "cell_type": "code",
   "execution_count": null,
   "id": "c8effc1b-2446-4676-b61e-29a3b59c5916",
   "metadata": {},
   "outputs": [],
   "source": [
    "y_pred = grid.predict_proba(X_test)\n",
    "roc_auc_score()"
   ]
  }
 ],
 "metadata": {
  "kernelspec": {
   "display_name": "Python 3 (ipykernel)",
   "language": "python",
   "name": "python3"
  },
  "language_info": {
   "codemirror_mode": {
    "name": "ipython",
    "version": 3
   },
   "file_extension": ".py",
   "mimetype": "text/x-python",
   "name": "python",
   "nbconvert_exporter": "python",
   "pygments_lexer": "ipython3",
   "version": "3.9.7"
  }
 },
 "nbformat": 4,
 "nbformat_minor": 5
}
