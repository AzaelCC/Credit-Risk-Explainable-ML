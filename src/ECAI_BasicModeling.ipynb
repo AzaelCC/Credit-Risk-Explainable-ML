{
 "cells": [
  {
   "cell_type": "code",
   "execution_count": 7,
   "id": "ee938760-25e2-4754-bf2d-9882d4af8e9d",
   "metadata": {},
   "outputs": [],
   "source": [
    "seed = 0"
   ]
  },
  {
   "cell_type": "code",
   "execution_count": 8,
   "id": "722d4ad5-fb5d-4d6f-a0e3-a62c4c518254",
   "metadata": {},
   "outputs": [],
   "source": [
    "from utilities.load_data import load_fullECAI\n",
    "from utilities.evaluation import *"
   ]
  },
  {
   "cell_type": "code",
   "execution_count": 9,
   "id": "a2c1b3e0-b08f-433c-988c-b7c1cf6b2270",
   "metadata": {},
   "outputs": [],
   "source": [
    "from time import time\n",
    "import joblib\n",
    "import os\n",
    "import numpy as np\n",
    "import pandas as pd\n",
    "import shap\n",
    "from matplotlib import pyplot\n",
    "from sklearn.model_selection import train_test_split\n",
    "from sklearn.preprocessing import LabelEncoder, MinMaxScaler, OneHotEncoder, Normalizer\n",
    "from sklearn.pipeline import Pipeline\n",
    "from sklearn.compose import ColumnTransformer\n",
    "from sklearn.linear_model import LogisticRegression\n",
    "from sklearn.discriminant_analysis import LinearDiscriminantAnalysis\n",
    "from sklearn.naive_bayes import GaussianNB\n",
    "from sklearn.gaussian_process import GaussianProcessClassifier\n",
    "from sklearn.svm import SVC\n",
    "from sklearn.ensemble import AdaBoostClassifier, RandomForestClassifier, StackingClassifier\n",
    "from sklearn.dummy import DummyClassifier\n",
    "from sklearn.model_selection import train_test_split\n",
    "from sklearn.metrics import confusion_matrix\n",
    "from xgboost import XGBClassifier, Booster, DMatrix\n",
    "\n",
    "# define models to test\n",
    "def get_models():\n",
    "    models, names = list(), list()\n",
    "    # LR\n",
    "    models.append(LogisticRegression(solver='liblinear'))\n",
    "    names.append('LR')\n",
    "    # LDA\n",
    "    models.append(LinearDiscriminantAnalysis())\n",
    "    names.append('LDA')\n",
    "    # RF\n",
    "    models.append(RandomForestClassifier())\n",
    "    names.append('RF')\n",
    "    # XGB\n",
    "    models.append(XGBClassifier(use_label_encoder=False))\n",
    "    names.append('XGB')\n",
    "    return models, names"
   ]
  },
  {
   "cell_type": "code",
   "execution_count": 10,
   "id": "2bf49d83-bc92-4c9e-9975-58342d3444ed",
   "metadata": {},
   "outputs": [],
   "source": [
    "dataset = load_fullECAI()\n",
    "# Prep data\n",
    "X = dataset.drop('status', axis=1)\n",
    "y = dataset.loc[:, 'status']\n",
    "\n",
    "# Split\n",
    "X_train, X_test, y_train, y_test = train_test_split(X, y, test_size=.2, random_state=seed, stratify=y)"
   ]
  },
  {
   "cell_type": "code",
   "execution_count": 11,
   "id": "ccf5fca7-1dd2-4608-8d32-9462fdecdadc",
   "metadata": {},
   "outputs": [],
   "source": [
    "def log_metrics_and_explanations(clf, X_val, y_true_val, y_pred_val, y_prob_val):\n",
    "    cf = confusion_matrix(y_true_val, y_pred_val)\n",
    "    f1 = f1_score(y_true_val, y_pred_val)\n",
    "    if type(clf.named_steps['m']).__name__ == 'RandomForestClassifier':\n",
    "        explainer = shap.TreeExplainer(clf.named_steps['m'], clf.named_steps['nr'].transform(X_val))\n",
    "        shap_test = explainer(clf.named_steps['nr'].transform(X_val), check_additivity=False)\n",
    "        shap_df = pd.DataFrame(shap_test.values[:,:,1], \n",
    "                               columns=shap_test.feature_names, \n",
    "                               index=X_val.index)\n",
    "    else:\n",
    "        explainer = shap.Explainer(clf.named_steps['m'], clf.named_steps['nr'].transform(X_val))\n",
    "        shap_test = explainer(clf.named_steps['nr'].transform(X_val))\n",
    "        shap_df = pd.DataFrame(shap_test.values, \n",
    "                               columns=shap_test.feature_names, \n",
    "                               index=X_val.index)\n",
    "    to_save = {'params': clf.get_params(),\n",
    "               'shap': shap_df,\n",
    "               'val_idx': X_val.index.values, \n",
    "               'y_pred': y_pred_val,\n",
    "               'y_proba': y_prob_val,\n",
    "               'confusion_matrix': cf, \n",
    "               'f1': f1}\n",
    "    \n",
    "    ### Save to file\n",
    "    timestring = \"\".join(str(time()).split(\".\"))\n",
    "    model_name = type(clf.named_steps['m']).__name__ + '.pkl'\n",
    "    \n",
    "    if not os.path.exists('results/Basic/models'):\n",
    "        os.makedirs('results/Basic/models')\n",
    "    model_savepath = 'results/Basic/models/{}'.format(model_name)\n",
    "    joblib.dump(to_save, model_savepath)\n",
    "    \n",
    "    return f1\n",
    "\n",
    "def _my_scorer(clf, X_val, y_true_val):\n",
    "    # do all the work and return some of the metrics\n",
    "    y_pred_val = clf.predict(X_val)\n",
    "    y_prob_val = clf.predict_proba(X_val)\n",
    "    f1 = log_metrics_and_explanations(clf, X_val, y_true_val, y_pred_val, y_prob_val)\n",
    "    \n",
    "    return f1"
   ]
  },
  {
   "cell_type": "code",
   "execution_count": 12,
   "id": "a91cffbe-eeb5-4826-b696-1adf114ec866",
   "metadata": {
    "tags": []
   },
   "outputs": [
    {
     "name": "stdout",
     "output_type": "stream",
     "text": [
      "LogisticRegression(solver='liblinear')\n",
      "min: 0.07142857142857142\n",
      "max: 0.11683848797250859\n",
      "mean: 0.08801331417291021\n",
      "LinearDiscriminantAnalysis()\n",
      "min: 0.18731117824773413\n",
      "max: 0.3059490084985836\n",
      "mean: 0.24514718471847716\n",
      "RandomForestClassifier()\n",
      "min: 0.3989071038251366\n",
      "max: 0.5063291139240507\n",
      "mean: 0.45139972038546106\n",
      "XGBClassifier(base_score=None, booster=None, colsample_bylevel=None,\n",
      "              colsample_bynode=None, colsample_bytree=None,\n",
      "              enable_categorical=False, gamma=None, gpu_id=None,\n",
      "              importance_type=None, interaction_constraints=None,\n",
      "              learning_rate=None, max_delta_step=None, max_depth=None,\n",
      "              min_child_weight=None, missing=nan, monotone_constraints=None,\n",
      "              n_estimators=100, n_jobs=None, num_parallel_tree=None,\n",
      "              predictor=None, random_state=None, reg_alpha=None,\n",
      "              reg_lambda=None, scale_pos_weight=None, subsample=None,\n",
      "              tree_method=None, use_label_encoder=False,\n",
      "              validate_parameters=None, verbosity=None)\n",
      "min: 0.415\n",
      "max: 0.5074626865671642\n",
      "mean: 0.45790971173728506\n"
     ]
    }
   ],
   "source": [
    "# define models\n",
    "models, names = get_models()\n",
    "results = list()\n",
    "# evaluate each model\n",
    "for i in range(len(models)):\n",
    "    # define model to evaluate\n",
    "    model = models[i]\n",
    "    norm = Normalizer()\n",
    "    # scale, then undersample, then fit model\n",
    "    pipeline = Pipeline(steps=[('nr',norm), ('m',model)])\n",
    "    # evaluate the model and store results\n",
    "    print(model)\n",
    "    scores = evaluate_model(X_train, y_train, pipeline, make_scorer(f1_score))\n",
    "    results.append(scores)\n",
    "results = np.array(results).T\n",
    "results = pd.DataFrame(results, columns=names)\n",
    "sorted_index = results.mean().sort_values().index\n",
    "results = results[sorted_index]"
   ]
  },
  {
   "cell_type": "code",
   "execution_count": 13,
   "id": "0aacc78b-aa12-4ed6-89d9-c028ea5e0bd3",
   "metadata": {},
   "outputs": [
    {
     "name": "stderr",
     "output_type": "stream",
     "text": [
      "100%|===================| 5997/6018 [02:25<00:00]        "
     ]
    },
    {
     "name": "stdout",
     "output_type": "stream",
     "text": [
      "[23:35:54] WARNING: C:/Users/Administrator/workspace/xgboost-win64_release_1.5.1/src/learner.cc:1115: Starting in XGBoost 1.3.0, the default evaluation metric used with the objective 'binary:logistic' was changed from 'error' to 'logloss'. Explicitly set eval_metric if you'd like to restore the old behavior.\n"
     ]
    }
   ],
   "source": [
    "for i in range(len(models)):\n",
    "    model = models[i]\n",
    "    norm = Normalizer()\n",
    "    # scale, then undersample, then fit model\n",
    "    pipeline = Pipeline(steps=[('nr',norm), ('m',model)])\n",
    "    pipeline.fit(X_train, y_train)\n",
    "    _my_scorer(pipeline, X_test, y_test)"
   ]
  },
  {
   "cell_type": "code",
   "execution_count": 14,
   "id": "1dca75f8-01ed-4e1b-bda5-95658803dd16",
   "metadata": {},
   "outputs": [],
   "source": [
    "import matplotlib.pyplot as plt\n",
    "import seaborn as sns\n",
    "import os"
   ]
  },
  {
   "cell_type": "code",
   "execution_count": 15,
   "id": "c5a423d3-0a06-4dc7-9943-309a9957dc96",
   "metadata": {},
   "outputs": [],
   "source": [
    "import joblib\n",
    "results['GIU'] = joblib.load('giudici_scores.pkl')"
   ]
  },
  {
   "cell_type": "code",
   "execution_count": 16,
   "id": "c5564390-5896-4a5c-a94b-5fa3e98c9150",
   "metadata": {},
   "outputs": [
    {
     "data": {
      "image/png": "[encoded data removed]",
      "text/plain": [
       "<Figure size 432x288 with 1 Axes>"
      ]
     },
     "metadata": {
      "needs_background": "light"
     },
     "output_type": "display_data"
    }
   ],
   "source": [
    "sns.boxplot(x=\"variable\", y=\"value\", data=pd.melt(results))\n",
    "if not os.path.exists('figures/modeling_basic'):\n",
    "    os.makedirs('figures/modeling_basic')\n",
    "plt.ylabel('Macro valor F1')\n",
    "plt.xlabel('Modelo')\n",
    "plt.savefig('figures/modeling_basic/mb_F1_CV.png', bbox_inches='tight', dpi=300, transparent=True)"
   ]
  },
  {
   "cell_type": "code",
   "execution_count": 9,
   "id": "a3c05fab-2799-4667-a3a9-ac905fb4a9f7",
   "metadata": {},
   "outputs": [],
   "source": [
    "from imblearn.pipeline import Pipeline\n",
    "from imblearn.under_sampling import TomekLinks\n",
    "from imblearn.under_sampling import EditedNearestNeighbours\n",
    "from imblearn.under_sampling import RepeatedEditedNearestNeighbours\n",
    "from imblearn.under_sampling import NeighbourhoodCleaningRule\n",
    "from imblearn.under_sampling import OneSidedSelection\n",
    "from imblearn.under_sampling import InstanceHardnessThreshold"
   ]
  },
  {
   "cell_type": "code",
   "execution_count": 10,
   "id": "e24778fd-5900-44ab-89c2-b315e5e10321",
   "metadata": {},
   "outputs": [],
   "source": [
    "def get_models():\n",
    "    models, names = list(), list()\n",
    "    # TL\n",
    "    models.append(TomekLinks())\n",
    "    names.append('TL')\n",
    "    # ENN\n",
    "    models.append(EditedNearestNeighbours())\n",
    "    names.append('ENN')\n",
    "    # RENN\n",
    "    models.append(RepeatedEditedNearestNeighbours())\n",
    "    names.append('RENN')\n",
    "    # NCR\n",
    "    models.append(NeighbourhoodCleaningRule())\n",
    "    names.append('NCR')\n",
    "    # IHT\n",
    "    models.append(InstanceHardnessThreshold())\n",
    "    names.append('IHT')\n",
    "    return models, names"
   ]
  },
  {
   "cell_type": "code",
   "execution_count": null,
   "id": "4cc362ee-dfb9-4d93-88f2-00d924664c99",
   "metadata": {
    "tags": []
   },
   "outputs": [
    {
     "name": "stdout",
     "output_type": "stream",
     "text": [
      "TomekLinks()\n",
      "min: 0.6692156469968927\n",
      "max: 0.734985223914526\n",
      "mean: 0.706710337870647\n",
      "EditedNearestNeighbours()\n",
      "min: 0.6875234780687217\n",
      "max: 0.7446709916589435\n",
      "mean: 0.7168172767263815\n",
      "RepeatedEditedNearestNeighbours()\n",
      "min: 0.6596952701859183\n",
      "max: 0.7218696851352\n",
      "mean: 0.6942059960708669\n",
      "OneSidedSelection()\n"
     ]
    },
    {
     "name": "stderr",
     "output_type": "stream",
     "text": [
      "C:\\Users\\azael\\miniconda3\\envs\\ciencia_datos_nogpu\\lib\\site-packages\\sklearn\\model_selection\\_validation.py:372: FitFailedWarning: \n",
      "4 fits failed out of a total of 15.\n",
      "The score on these train-test partitions for these parameters will be set to nan.\n",
      "If these failures are not expected, you can try to debug them by setting error_score='raise'.\n",
      "\n",
      "Below are more details about the failures:\n",
      "--------------------------------------------------------------------------------\n",
      "1 fits failed with the following error:\n",
      "Traceback (most recent call last):\n",
      "  File \"C:\\Users\\azael\\miniconda3\\envs\\ciencia_datos_nogpu\\lib\\site-packages\\sklearn\\model_selection\\_validation.py\", line 680, in _fit_and_score\n",
      "    estimator.fit(X_train, y_train, **fit_params)\n",
      "  File \"C:\\Users\\azael\\miniconda3\\envs\\ciencia_datos_nogpu\\lib\\site-packages\\imblearn\\pipeline.py\", line 268, in fit\n",
      "    Xt, yt = self._fit(X, y, **fit_params_steps)\n",
      "  File \"C:\\Users\\azael\\miniconda3\\envs\\ciencia_datos_nogpu\\lib\\site-packages\\imblearn\\pipeline.py\", line 226, in _fit\n",
      "    X, y, fitted_transformer = fit_resample_one_cached(\n",
      "  File \"C:\\Users\\azael\\miniconda3\\envs\\ciencia_datos_nogpu\\lib\\site-packages\\joblib\\memory.py\", line 349, in __call__\n",
      "    return self.func(*args, **kwargs)\n",
      "  File \"C:\\Users\\azael\\miniconda3\\envs\\ciencia_datos_nogpu\\lib\\site-packages\\imblearn\\pipeline.py\", line 394, in _fit_resample_one\n",
      "    X_res, y_res = sampler.fit_resample(X, y, **fit_params)\n",
      "  File \"C:\\Users\\azael\\miniconda3\\envs\\ciencia_datos_nogpu\\lib\\site-packages\\imblearn\\base.py\", line 83, in fit_resample\n",
      "    output = self._fit_resample(X, y)\n",
      "  File \"C:\\Users\\azael\\miniconda3\\envs\\ciencia_datos_nogpu\\lib\\site-packages\\imblearn\\under_sampling\\_prototype_selection\\_one_sided_selection.py\", line 187, in _fit_resample\n",
      "    X_cleaned, y_cleaned = tl.fit_resample(X_resampled, y_resampled)\n",
      "  File \"C:\\Users\\azael\\miniconda3\\envs\\ciencia_datos_nogpu\\lib\\site-packages\\imblearn\\base.py\", line 83, in fit_resample\n",
      "    output = self._fit_resample(X, y)\n",
      "  File \"C:\\Users\\azael\\miniconda3\\envs\\ciencia_datos_nogpu\\lib\\site-packages\\imblearn\\under_sampling\\_prototype_selection\\_tomek_links.py\", line 139, in _fit_resample\n",
      "    nns = nn.kneighbors(X, return_distance=False)[:, 1]\n",
      "  File \"C:\\Users\\azael\\miniconda3\\envs\\ciencia_datos_nogpu\\lib\\site-packages\\sklearn\\neighbors\\_base.py\", line 752, in kneighbors\n",
      "    chunked_results = list(\n",
      "  File \"C:\\Users\\azael\\miniconda3\\envs\\ciencia_datos_nogpu\\lib\\site-packages\\sklearn\\metrics\\pairwise.py\", line 1717, in pairwise_distances_chunked\n",
      "    D_chunk = pairwise_distances(X_chunk, Y, metric=metric, n_jobs=n_jobs, **kwds)\n",
      "  File \"C:\\Users\\azael\\miniconda3\\envs\\ciencia_datos_nogpu\\lib\\site-packages\\sklearn\\metrics\\pairwise.py\", line 1889, in pairwise_distances\n",
      "    return _parallel_pairwise(X, Y, func, n_jobs, **kwds)\n",
      "  File \"C:\\Users\\azael\\miniconda3\\envs\\ciencia_datos_nogpu\\lib\\site-packages\\sklearn\\metrics\\pairwise.py\", line 1430, in _parallel_pairwise\n",
      "    return func(X, Y, **kwds)\n",
      "  File \"C:\\Users\\azael\\miniconda3\\envs\\ciencia_datos_nogpu\\lib\\site-packages\\sklearn\\metrics\\pairwise.py\", line 330, in euclidean_distances\n",
      "    return _euclidean_distances(X, Y, X_norm_squared, Y_norm_squared, squared)\n",
      "  File \"C:\\Users\\azael\\miniconda3\\envs\\ciencia_datos_nogpu\\lib\\site-packages\\sklearn\\metrics\\pairwise.py\", line 371, in _euclidean_distances\n",
      "    distances = -2 * safe_sparse_dot(X, Y.T, dense_output=True)\n",
      "numpy.core._exceptions._ArrayMemoryError: Unable to allocate 705. MiB for an array with shape (9611, 9611) and data type float64\n",
      "\n",
      "--------------------------------------------------------------------------------\n",
      "1 fits failed with the following error:\n",
      "Traceback (most recent call last):\n",
      "  File \"C:\\Users\\azael\\miniconda3\\envs\\ciencia_datos_nogpu\\lib\\site-packages\\sklearn\\model_selection\\_validation.py\", line 680, in _fit_and_score\n",
      "    estimator.fit(X_train, y_train, **fit_params)\n",
      "  File \"C:\\Users\\azael\\miniconda3\\envs\\ciencia_datos_nogpu\\lib\\site-packages\\imblearn\\pipeline.py\", line 268, in fit\n",
      "    Xt, yt = self._fit(X, y, **fit_params_steps)\n",
      "  File \"C:\\Users\\azael\\miniconda3\\envs\\ciencia_datos_nogpu\\lib\\site-packages\\imblearn\\pipeline.py\", line 226, in _fit\n",
      "    X, y, fitted_transformer = fit_resample_one_cached(\n",
      "  File \"C:\\Users\\azael\\miniconda3\\envs\\ciencia_datos_nogpu\\lib\\site-packages\\joblib\\memory.py\", line 349, in __call__\n",
      "    return self.func(*args, **kwargs)\n",
      "  File \"C:\\Users\\azael\\miniconda3\\envs\\ciencia_datos_nogpu\\lib\\site-packages\\imblearn\\pipeline.py\", line 394, in _fit_resample_one\n",
      "    X_res, y_res = sampler.fit_resample(X, y, **fit_params)\n",
      "  File \"C:\\Users\\azael\\miniconda3\\envs\\ciencia_datos_nogpu\\lib\\site-packages\\imblearn\\base.py\", line 83, in fit_resample\n",
      "    output = self._fit_resample(X, y)\n",
      "  File \"C:\\Users\\azael\\miniconda3\\envs\\ciencia_datos_nogpu\\lib\\site-packages\\imblearn\\under_sampling\\_prototype_selection\\_one_sided_selection.py\", line 187, in _fit_resample\n",
      "    X_cleaned, y_cleaned = tl.fit_resample(X_resampled, y_resampled)\n",
      "  File \"C:\\Users\\azael\\miniconda3\\envs\\ciencia_datos_nogpu\\lib\\site-packages\\imblearn\\base.py\", line 83, in fit_resample\n",
      "    output = self._fit_resample(X, y)\n",
      "  File \"C:\\Users\\azael\\miniconda3\\envs\\ciencia_datos_nogpu\\lib\\site-packages\\imblearn\\under_sampling\\_prototype_selection\\_tomek_links.py\", line 139, in _fit_resample\n",
      "    nns = nn.kneighbors(X, return_distance=False)[:, 1]\n",
      "  File \"C:\\Users\\azael\\miniconda3\\envs\\ciencia_datos_nogpu\\lib\\site-packages\\sklearn\\neighbors\\_base.py\", line 752, in kneighbors\n",
      "    chunked_results = list(\n",
      "  File \"C:\\Users\\azael\\miniconda3\\envs\\ciencia_datos_nogpu\\lib\\site-packages\\sklearn\\metrics\\pairwise.py\", line 1717, in pairwise_distances_chunked\n",
      "    D_chunk = pairwise_distances(X_chunk, Y, metric=metric, n_jobs=n_jobs, **kwds)\n",
      "  File \"C:\\Users\\azael\\miniconda3\\envs\\ciencia_datos_nogpu\\lib\\site-packages\\sklearn\\metrics\\pairwise.py\", line 1889, in pairwise_distances\n",
      "    return _parallel_pairwise(X, Y, func, n_jobs, **kwds)\n",
      "  File \"C:\\Users\\azael\\miniconda3\\envs\\ciencia_datos_nogpu\\lib\\site-packages\\sklearn\\metrics\\pairwise.py\", line 1430, in _parallel_pairwise\n",
      "    return func(X, Y, **kwds)\n",
      "  File \"C:\\Users\\azael\\miniconda3\\envs\\ciencia_datos_nogpu\\lib\\site-packages\\sklearn\\metrics\\pairwise.py\", line 330, in euclidean_distances\n",
      "    return _euclidean_distances(X, Y, X_norm_squared, Y_norm_squared, squared)\n",
      "  File \"C:\\Users\\azael\\miniconda3\\envs\\ciencia_datos_nogpu\\lib\\site-packages\\sklearn\\metrics\\pairwise.py\", line 371, in _euclidean_distances\n",
      "    distances = -2 * safe_sparse_dot(X, Y.T, dense_output=True)\n",
      "numpy.core._exceptions._ArrayMemoryError: Unable to allocate 707. MiB for an array with shape (9624, 9624) and data type float64\n",
      "\n",
      "--------------------------------------------------------------------------------\n",
      "1 fits failed with the following error:\n",
      "Traceback (most recent call last):\n",
      "  File \"C:\\Users\\azael\\miniconda3\\envs\\ciencia_datos_nogpu\\lib\\site-packages\\sklearn\\model_selection\\_validation.py\", line 680, in _fit_and_score\n",
      "    estimator.fit(X_train, y_train, **fit_params)\n",
      "  File \"C:\\Users\\azael\\miniconda3\\envs\\ciencia_datos_nogpu\\lib\\site-packages\\imblearn\\pipeline.py\", line 268, in fit\n",
      "    Xt, yt = self._fit(X, y, **fit_params_steps)\n",
      "  File \"C:\\Users\\azael\\miniconda3\\envs\\ciencia_datos_nogpu\\lib\\site-packages\\imblearn\\pipeline.py\", line 226, in _fit\n",
      "    X, y, fitted_transformer = fit_resample_one_cached(\n",
      "  File \"C:\\Users\\azael\\miniconda3\\envs\\ciencia_datos_nogpu\\lib\\site-packages\\joblib\\memory.py\", line 349, in __call__\n",
      "    return self.func(*args, **kwargs)\n",
      "  File \"C:\\Users\\azael\\miniconda3\\envs\\ciencia_datos_nogpu\\lib\\site-packages\\imblearn\\pipeline.py\", line 394, in _fit_resample_one\n",
      "    X_res, y_res = sampler.fit_resample(X, y, **fit_params)\n",
      "  File \"C:\\Users\\azael\\miniconda3\\envs\\ciencia_datos_nogpu\\lib\\site-packages\\imblearn\\base.py\", line 83, in fit_resample\n",
      "    output = self._fit_resample(X, y)\n",
      "  File \"C:\\Users\\azael\\miniconda3\\envs\\ciencia_datos_nogpu\\lib\\site-packages\\imblearn\\under_sampling\\_prototype_selection\\_one_sided_selection.py\", line 187, in _fit_resample\n",
      "    X_cleaned, y_cleaned = tl.fit_resample(X_resampled, y_resampled)\n",
      "  File \"C:\\Users\\azael\\miniconda3\\envs\\ciencia_datos_nogpu\\lib\\site-packages\\imblearn\\base.py\", line 83, in fit_resample\n",
      "    output = self._fit_resample(X, y)\n",
      "  File \"C:\\Users\\azael\\miniconda3\\envs\\ciencia_datos_nogpu\\lib\\site-packages\\imblearn\\under_sampling\\_prototype_selection\\_tomek_links.py\", line 139, in _fit_resample\n",
      "    nns = nn.kneighbors(X, return_distance=False)[:, 1]\n",
      "  File \"C:\\Users\\azael\\miniconda3\\envs\\ciencia_datos_nogpu\\lib\\site-packages\\sklearn\\neighbors\\_base.py\", line 752, in kneighbors\n",
      "    chunked_results = list(\n",
      "  File \"C:\\Users\\azael\\miniconda3\\envs\\ciencia_datos_nogpu\\lib\\site-packages\\sklearn\\metrics\\pairwise.py\", line 1717, in pairwise_distances_chunked\n",
      "    D_chunk = pairwise_distances(X_chunk, Y, metric=metric, n_jobs=n_jobs, **kwds)\n",
      "  File \"C:\\Users\\azael\\miniconda3\\envs\\ciencia_datos_nogpu\\lib\\site-packages\\sklearn\\metrics\\pairwise.py\", line 1889, in pairwise_distances\n",
      "    return _parallel_pairwise(X, Y, func, n_jobs, **kwds)\n",
      "  File \"C:\\Users\\azael\\miniconda3\\envs\\ciencia_datos_nogpu\\lib\\site-packages\\sklearn\\metrics\\pairwise.py\", line 1430, in _parallel_pairwise\n",
      "    return func(X, Y, **kwds)\n",
      "  File \"C:\\Users\\azael\\miniconda3\\envs\\ciencia_datos_nogpu\\lib\\site-packages\\sklearn\\metrics\\pairwise.py\", line 330, in euclidean_distances\n",
      "    return _euclidean_distances(X, Y, X_norm_squared, Y_norm_squared, squared)\n",
      "  File \"C:\\Users\\azael\\miniconda3\\envs\\ciencia_datos_nogpu\\lib\\site-packages\\sklearn\\metrics\\pairwise.py\", line 371, in _euclidean_distances\n",
      "    distances = -2 * safe_sparse_dot(X, Y.T, dense_output=True)\n",
      "numpy.core._exceptions._ArrayMemoryError: Unable to allocate 700. MiB for an array with shape (9578, 9578) and data type float64\n",
      "\n",
      "--------------------------------------------------------------------------------\n",
      "1 fits failed with the following error:\n",
      "Traceback (most recent call last):\n",
      "  File \"C:\\Users\\azael\\miniconda3\\envs\\ciencia_datos_nogpu\\lib\\site-packages\\sklearn\\model_selection\\_validation.py\", line 680, in _fit_and_score\n",
      "    estimator.fit(X_train, y_train, **fit_params)\n",
      "  File \"C:\\Users\\azael\\miniconda3\\envs\\ciencia_datos_nogpu\\lib\\site-packages\\imblearn\\pipeline.py\", line 268, in fit\n",
      "    Xt, yt = self._fit(X, y, **fit_params_steps)\n",
      "  File \"C:\\Users\\azael\\miniconda3\\envs\\ciencia_datos_nogpu\\lib\\site-packages\\imblearn\\pipeline.py\", line 226, in _fit\n",
      "    X, y, fitted_transformer = fit_resample_one_cached(\n",
      "  File \"C:\\Users\\azael\\miniconda3\\envs\\ciencia_datos_nogpu\\lib\\site-packages\\joblib\\memory.py\", line 349, in __call__\n",
      "    return self.func(*args, **kwargs)\n",
      "  File \"C:\\Users\\azael\\miniconda3\\envs\\ciencia_datos_nogpu\\lib\\site-packages\\imblearn\\pipeline.py\", line 394, in _fit_resample_one\n",
      "    X_res, y_res = sampler.fit_resample(X, y, **fit_params)\n",
      "  File \"C:\\Users\\azael\\miniconda3\\envs\\ciencia_datos_nogpu\\lib\\site-packages\\imblearn\\base.py\", line 83, in fit_resample\n",
      "    output = self._fit_resample(X, y)\n",
      "  File \"C:\\Users\\azael\\miniconda3\\envs\\ciencia_datos_nogpu\\lib\\site-packages\\imblearn\\under_sampling\\_prototype_selection\\_one_sided_selection.py\", line 187, in _fit_resample\n",
      "    X_cleaned, y_cleaned = tl.fit_resample(X_resampled, y_resampled)\n",
      "  File \"C:\\Users\\azael\\miniconda3\\envs\\ciencia_datos_nogpu\\lib\\site-packages\\imblearn\\base.py\", line 83, in fit_resample\n",
      "    output = self._fit_resample(X, y)\n",
      "  File \"C:\\Users\\azael\\miniconda3\\envs\\ciencia_datos_nogpu\\lib\\site-packages\\imblearn\\under_sampling\\_prototype_selection\\_tomek_links.py\", line 139, in _fit_resample\n",
      "    nns = nn.kneighbors(X, return_distance=False)[:, 1]\n",
      "  File \"C:\\Users\\azael\\miniconda3\\envs\\ciencia_datos_nogpu\\lib\\site-packages\\sklearn\\neighbors\\_base.py\", line 752, in kneighbors\n",
      "    chunked_results = list(\n",
      "  File \"C:\\Users\\azael\\miniconda3\\envs\\ciencia_datos_nogpu\\lib\\site-packages\\sklearn\\metrics\\pairwise.py\", line 1717, in pairwise_distances_chunked\n",
      "    D_chunk = pairwise_distances(X_chunk, Y, metric=metric, n_jobs=n_jobs, **kwds)\n",
      "  File \"C:\\Users\\azael\\miniconda3\\envs\\ciencia_datos_nogpu\\lib\\site-packages\\sklearn\\metrics\\pairwise.py\", line 1889, in pairwise_distances\n",
      "    return _parallel_pairwise(X, Y, func, n_jobs, **kwds)\n",
      "  File \"C:\\Users\\azael\\miniconda3\\envs\\ciencia_datos_nogpu\\lib\\site-packages\\sklearn\\metrics\\pairwise.py\", line 1430, in _parallel_pairwise\n",
      "    return func(X, Y, **kwds)\n",
      "  File \"C:\\Users\\azael\\miniconda3\\envs\\ciencia_datos_nogpu\\lib\\site-packages\\sklearn\\metrics\\pairwise.py\", line 330, in euclidean_distances\n",
      "    return _euclidean_distances(X, Y, X_norm_squared, Y_norm_squared, squared)\n",
      "  File \"C:\\Users\\azael\\miniconda3\\envs\\ciencia_datos_nogpu\\lib\\site-packages\\sklearn\\metrics\\pairwise.py\", line 371, in _euclidean_distances\n",
      "    distances = -2 * safe_sparse_dot(X, Y.T, dense_output=True)\n",
      "numpy.core._exceptions._ArrayMemoryError: Unable to allocate 703. MiB for an array with shape (9599, 9599) and data type float64\n",
      "\n",
      "  warnings.warn(some_fits_failed_message, FitFailedWarning)\n"
     ]
    },
    {
     "name": "stdout",
     "output_type": "stream",
     "text": [
      "min: nan\n",
      "max: nan\n",
      "mean: nan\n",
      "NeighbourhoodCleaningRule()\n"
     ]
    }
   ],
   "source": [
    "# define models\n",
    "models, names = get_models()\n",
    "results = list()\n",
    "# evaluate each model\n",
    "for i in range(len(models)):\n",
    "    # define model to evaluate\n",
    "    model = XGBClassifier(use_label_encoder=False)\n",
    "    # scale, then undersample, then fit model\n",
    "    pipeline = Pipeline(steps=[('nr',norm), ('s', models[i]), ('m',model)])\n",
    "    # evaluate the model and store results\n",
    "    print(models[i])\n",
    "    scores = evaluate_model(X_train, y_train, pipeline, f1_macro)\n",
    "    results.append(scores)\n",
    "results = np.array(results).T\n",
    "results = pd.DataFrame(results, columns=names)\n",
    "sorted_index = results.mean().sort_values().index\n",
    "results = results[sorted_index]\n",
    "results['GIU'] = joblib.load('giudici_scores.pkl')"
   ]
  },
  {
   "cell_type": "code",
   "execution_count": 13,
   "id": "c87dae20-a3ea-426a-998c-3bdc77f72419",
   "metadata": {},
   "outputs": [
    {
     "data": {
      "image/png": "[encoded data removed]",
      "text/plain": [
       "<Figure size 432x288 with 1 Axes>"
      ]
     },
     "metadata": {
      "needs_background": "light"
     },
     "output_type": "display_data"
    }
   ],
   "source": [
    "sns.boxplot(x=\"variable\", y=\"value\", data=pd.melt(results))\n",
    "if not os.path.exists('figures/modeling_basic'):\n",
    "    os.makedirs('figures/modeling_basic')\n",
    "plt.ylabel('Macro valor F1')\n",
    "plt.xlabel('Tecnica de submuestreo')\n",
    "plt.savefig('figures/modeling_basic/mb_subsample.png', bbox_inches='tight', dpi=300, transparent=True)"
   ]
  },
  {
   "cell_type": "code",
   "execution_count": 45,
   "id": "613e5e52-086b-4b96-b8ea-5c038a76c791",
   "metadata": {},
   "outputs": [
    {
     "name": "stdout",
     "output_type": "stream",
     "text": [
      "TomekLinks()\n",
      "min: 0.6812854191050038\n",
      "max: 0.7293561923308759\n",
      "mean: 0.7081888635843062\n",
      "EditedNearestNeighbours()\n",
      "min: 0.7000215265739891\n",
      "max: 0.7437260988424574\n",
      "mean: 0.7249927388509014\n",
      "RepeatedEditedNearestNeighbours()\n",
      "min: 0.6913181622602478\n",
      "max: 0.7152153336488405\n",
      "mean: 0.7038746760261354\n",
      "OneSidedSelection()\n",
      "min: 0.6766241594167114\n",
      "max: 0.7346257206514\n",
      "mean: 0.7071219612210558\n",
      "NeighbourhoodCleaningRule()\n",
      "min: 0.684745794768136\n",
      "max: 0.7470828359460056\n",
      "mean: 0.7199188261331855\n",
      "InstanceHardnessThreshold()\n",
      "min: 0.472813758834455\n",
      "max: 0.4938446193816107\n",
      "mean: 0.4856295232665266\n"
     ]
    }
   ],
   "source": [
    "# define models\n",
    "models, names = get_models()\n",
    "results = list()\n",
    "# evaluate each model\n",
    "for i in range(len(models)):\n",
    "    # define model to evaluate\n",
    "    model = RandomForestClassifier()\n",
    "    # scale, then undersample, then fit model\n",
    "    pipeline = Pipeline(steps=[('nr',norm), ('s', models[i]), ('m',model)])\n",
    "    # evaluate the model and store results\n",
    "    print(models[i])\n",
    "    evaluate_model(X_train, y_train, pipeline, f1_macro)"
   ]
  },
  {
   "cell_type": "code",
   "execution_count": 38,
   "id": "9e97e23c-7b5b-4c2f-a8cd-a26d66a84b15",
   "metadata": {},
   "outputs": [
    {
     "name": "stdout",
     "output_type": "stream",
     "text": [
      "[04:28:44] WARNING: ..\\src\\learner.cc:1115: Starting in XGBoost 1.3.0, the default evaluation metric used with the objective 'binary:logistic' was changed from 'error' to 'logloss'. Explicitly set eval_metric if you'd like to restore the old behavior.\n"
     ]
    },
    {
     "data": {
      "text/plain": [
       "Pipeline(steps=[('nr', Normalizer()), ('s', EditedNearestNeighbours()),\n",
       "                ('m',\n",
       "                 XGBClassifier(base_score=0.5, booster='gbtree',\n",
       "                               colsample_bylevel=1, colsample_bynode=1,\n",
       "                               colsample_bytree=1, enable_categorical=False,\n",
       "                               gamma=0, gpu_id=-1, importance_type=None,\n",
       "                               interaction_constraints='',\n",
       "                               learning_rate=0.300000012, max_delta_step=0,\n",
       "                               max_depth=6, min_child_weight=1, missing=nan,\n",
       "                               monotone_constraints='()', n_estimators=100,\n",
       "                               n_jobs=12, num_parallel_tree=1, predictor='auto',\n",
       "                               random_state=0, reg_alpha=0, reg_lambda=1,\n",
       "                               scale_pos_weight=1, subsample=1,\n",
       "                               tree_method='exact', use_label_encoder=False,\n",
       "                               validate_parameters=1, verbosity=None))])"
      ]
     },
     "execution_count": 38,
     "metadata": {},
     "output_type": "execute_result"
    }
   ],
   "source": [
    "model = XGBClassifier(use_label_encoder=False)\n",
    "# scale, then undersample, then fit model\n",
    "pipeline = Pipeline(steps=[('nr',norm), ('s', models[1]), ('m',model)])\n",
    "pipeline.fit(X_train, y_train)"
   ]
  },
  {
   "cell_type": "code",
   "execution_count": 43,
   "id": "c30151e0-e488-4bfc-b739-540142cbe121",
   "metadata": {},
   "outputs": [],
   "source": [
    "from sklearn.metrics import ConfusionMatrixDisplay"
   ]
  },
  {
   "cell_type": "code",
   "execution_count": 41,
   "id": "512b01ac-bc5b-4fa5-bd40-fc67814572b6",
   "metadata": {},
   "outputs": [
    {
     "name": "stdout",
     "output_type": "stream",
     "text": [
      "              precision    recall  f1-score   support\n",
      "\n",
      "           0       0.95      0.95      0.95      2683\n",
      "           1       0.58      0.55      0.56       326\n",
      "\n",
      "    accuracy                           0.91      3009\n",
      "   macro avg       0.76      0.75      0.75      3009\n",
      "weighted avg       0.91      0.91      0.91      3009\n",
      "\n"
     ]
    }
   ],
   "source": [
    "y_pred = pipeline.predict(X_test)\n",
    "print(classification_report(y_test, y_pred))"
   ]
  },
  {
   "cell_type": "code",
   "execution_count": 44,
   "id": "7cb0ce47-5586-40ae-8a80-f2deee13ccb5",
   "metadata": {},
   "outputs": [
    {
     "data": {
      "text/plain": [
       "<sklearn.metrics._plot.confusion_matrix.ConfusionMatrixDisplay at 0x22aba598250>"
      ]
     },
     "execution_count": 44,
     "metadata": {},
     "output_type": "execute_result"
    },
    {
     "data": {
      "image/png": "[encoded data removed]",
      "text/plain": [
       "<Figure size 432x288 with 2 Axes>"
      ]
     },
     "metadata": {
      "needs_background": "light"
     },
     "output_type": "display_data"
    }
   ],
   "source": [
    "ConfusionMatrixDisplay.from_predictions(y_test, y_pred)"
   ]
  }
 ],
 "metadata": {
  "kernelspec": {
   "display_name": "Python 3 (ipykernel)",
   "language": "python",
   "name": "python3"
  },
  "language_info": {
   "codemirror_mode": {
    "name": "ipython",
    "version": 3
   },
   "file_extension": ".py",
   "mimetype": "text/x-python",
   "name": "python",
   "nbconvert_exporter": "python",
   "pygments_lexer": "ipython3",
   "version": "3.9.7"
  }
 },
 "nbformat": 4,
 "nbformat_minor": 5
}
